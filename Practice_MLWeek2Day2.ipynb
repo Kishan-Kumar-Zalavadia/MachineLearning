{
  "nbformat": 4,
  "nbformat_minor": 0,
  "metadata": {
    "colab": {
      "provenance": [],
      "authorship_tag": "ABX9TyOkSao8OdnQzPu9XWP514j5",
      "include_colab_link": true
    },
    "kernelspec": {
      "name": "python3",
      "display_name": "Python 3"
    },
    "language_info": {
      "name": "python"
    }
  },
  "cells": [
    {
      "cell_type": "markdown",
      "metadata": {
        "id": "view-in-github",
        "colab_type": "text"
      },
      "source": [
        "<a href=\"https://colab.research.google.com/github/Kishan-Kumar-Zalavadia/MachineLearning/blob/main/Practice_MLWeek2Day2.ipynb\" target=\"_parent\"><img src=\"https://colab.research.google.com/assets/colab-badge.svg\" alt=\"Open In Colab\"/></a>"
      ]
    },
    {
      "cell_type": "code",
      "execution_count": 4,
      "metadata": {
        "id": "DHrMfMjdl88s"
      },
      "outputs": [],
      "source": [
        "from sklearn import datasets"
      ]
    },
    {
      "cell_type": "code",
      "source": [
        "dir(datasets)"
      ],
      "metadata": {
        "colab": {
          "base_uri": "https://localhost:8080/"
        },
        "id": "L725GaCumMST",
        "outputId": "4f7fab3d-07d7-4497-f0ca-7f8889962cdd"
      },
      "execution_count": 8,
      "outputs": [
        {
          "output_type": "execute_result",
          "data": {
            "text/plain": [
              "['__all__',\n",
              " '__builtins__',\n",
              " '__cached__',\n",
              " '__doc__',\n",
              " '__file__',\n",
              " '__getattr__',\n",
              " '__loader__',\n",
              " '__name__',\n",
              " '__package__',\n",
              " '__path__',\n",
              " '__spec__',\n",
              " '_arff_parser',\n",
              " '_base',\n",
              " '_california_housing',\n",
              " '_covtype',\n",
              " '_kddcup99',\n",
              " '_lfw',\n",
              " '_olivetti_faces',\n",
              " '_openml',\n",
              " '_rcv1',\n",
              " '_samples_generator',\n",
              " '_species_distributions',\n",
              " '_svmlight_format_fast',\n",
              " '_svmlight_format_io',\n",
              " '_twenty_newsgroups',\n",
              " 'clear_data_home',\n",
              " 'dump_svmlight_file',\n",
              " 'fetch_20newsgroups',\n",
              " 'fetch_20newsgroups_vectorized',\n",
              " 'fetch_california_housing',\n",
              " 'fetch_covtype',\n",
              " 'fetch_kddcup99',\n",
              " 'fetch_lfw_pairs',\n",
              " 'fetch_lfw_people',\n",
              " 'fetch_olivetti_faces',\n",
              " 'fetch_openml',\n",
              " 'fetch_rcv1',\n",
              " 'fetch_species_distributions',\n",
              " 'get_data_home',\n",
              " 'load_breast_cancer',\n",
              " 'load_diabetes',\n",
              " 'load_digits',\n",
              " 'load_files',\n",
              " 'load_iris',\n",
              " 'load_linnerud',\n",
              " 'load_sample_image',\n",
              " 'load_sample_images',\n",
              " 'load_svmlight_file',\n",
              " 'load_svmlight_files',\n",
              " 'load_wine',\n",
              " 'make_biclusters',\n",
              " 'make_blobs',\n",
              " 'make_checkerboard',\n",
              " 'make_circles',\n",
              " 'make_classification',\n",
              " 'make_friedman1',\n",
              " 'make_friedman2',\n",
              " 'make_friedman3',\n",
              " 'make_gaussian_quantiles',\n",
              " 'make_hastie_10_2',\n",
              " 'make_low_rank_matrix',\n",
              " 'make_moons',\n",
              " 'make_multilabel_classification',\n",
              " 'make_regression',\n",
              " 'make_s_curve',\n",
              " 'make_sparse_coded_signal',\n",
              " 'make_sparse_spd_matrix',\n",
              " 'make_sparse_uncorrelated',\n",
              " 'make_spd_matrix',\n",
              " 'make_swiss_roll',\n",
              " 'textwrap']"
            ]
          },
          "metadata": {},
          "execution_count": 8
        }
      ]
    },
    {
      "cell_type": "code",
      "source": [
        "from sklearn.datasets import load_iris\n",
        "iris = load_iris()\n",
        "iris.feature_names"
      ],
      "metadata": {
        "colab": {
          "base_uri": "https://localhost:8080/"
        },
        "id": "a-wbKDbDmSeT",
        "outputId": "2562c14b-229a-4cbc-fe4f-f80060b87f23"
      },
      "execution_count": 14,
      "outputs": [
        {
          "output_type": "execute_result",
          "data": {
            "text/plain": [
              "['sepal length (cm)',\n",
              " 'sepal width (cm)',\n",
              " 'petal length (cm)',\n",
              " 'petal width (cm)']"
            ]
          },
          "metadata": {},
          "execution_count": 14
        }
      ]
    },
    {
      "cell_type": "code",
      "source": [
        "x = iris.data\n",
        "y = iris.target"
      ],
      "metadata": {
        "id": "nf-zPQn4moYX"
      },
      "execution_count": 16,
      "outputs": []
    },
    {
      "cell_type": "code",
      "source": [
        "import numpy as np\n",
        "cov_matrix = np.cov(x.T) #Shape of cov_matrix is (4,4)"
      ],
      "metadata": {
        "id": "eR3GTjuUmrfR"
      },
      "execution_count": 22,
      "outputs": []
    },
    {
      "cell_type": "code",
      "source": [
        "import seaborn as sns\n",
        "import matplotlib.pyplot as plt\n",
        "sns.heatmap(cov_matrix, annot=True ,fmt='g', xticklabels=iris.feature_names, yticklabels=iris.feature_names) #Explaination below the diagram!\n",
        "plt.show()"
      ],
      "metadata": {
        "colab": {
          "base_uri": "https://localhost:8080/",
          "height": 538
        },
        "id": "f3EaqFXLnFz0",
        "outputId": "dd91d1e0-7fe0-4c8d-ea2f-01968de84bdf"
      },
      "execution_count": 33,
      "outputs": [
        {
          "output_type": "display_data",
          "data": {
            "text/plain": [
              "<Figure size 640x480 with 2 Axes>"
            ],
            "image/png": "[encoded data removed]"
          },
          "metadata": {}
        }
      ]
    },
    {
      "cell_type": "markdown",
      "source": [
        "The code uses the Seaborn library to create a heatmap. Let'a break down what this code does:\n",
        "\n",
        "1. `sns.heatmap`: This is a function call to create a heatmap using Seaborn (often imported as `sns`).\n",
        "\n",
        "2. `cov_matrix`: This is presumably a variable representing a covariance matrix. A covariance matrix is a square matrix that displays the covariances between multiple variables. In this context, it's likely that you have a covariance matrix for a dataset, and you want to visualize the covariances between the variables.\n",
        "\n",
        "3. `annot=True`: This argument specifies that you want to annotate the cells of the heatmap with their respective values. In the heatmap, each cell will display the value from the covariance matrix.\n",
        "\n",
        "4. `fmt='g'`: This argument specifies the format for displaying the values in the cells. 'g' stands for \"general\" format, which means Seaborn will choose an appropriate format for the values based on their magnitude.\n",
        "\n",
        "5. `xticklabels=iris.feature_names` and `yticklabels=iris.feature_names`: These arguments provide the labels for the x-axis and y-axis of the heatmap. In this case, it looks like you want to label the axes with the feature names of the Iris dataset. The `iris.feature_names` likely contains a list of the names of the features (variables) in your dataset.\n",
        "\n",
        "So, when you run this code, it will generate a heatmap where each cell represents the covariance between two features (variables) of the Iris dataset. The cells will be annotated with the covariance values, and the x-axis and y-axis will be labeled with the feature names from the Iris dataset. This visualization can help you understand how different features in the dataset are related to each other in terms of their covariances."
      ],
      "metadata": {
        "id": "obljmaf5nqbS"
      }
    },
    {
      "cell_type": "markdown",
      "source": [
        "#What is a \"Heapmap\"?\n",
        "A heatmap is a graphical representation of data where values are depicted as colors in a matrix-like format. It is often used to visualize two-dimensional data, such as a correlation matrix or a covariance matrix, as well as to represent data in a matrix form."
      ],
      "metadata": {
        "id": "Zmb7FzdZoC5U"
      }
    },
    {
      "cell_type": "code",
      "source": [
        "sepal_length = x[:, 0]  # Extract sepal length feature\n",
        "petal_length = x[:, 2]  # Extract petal length feature\n",
        "\n",
        "correlation_coefficient = np.corrcoef(sepal_length, petal_length)[0, 1]\n",
        "\n",
        "print(\"Correlation coefficient between sepal length and petal length:\", correlation_coefficient)\n"
      ],
      "metadata": {
        "colab": {
          "base_uri": "https://localhost:8080/"
        },
        "id": "9m9OAJ91pBTD",
        "outputId": "4d4f3aa6-6629-4f53-b402-ed7c2c941272"
      },
      "execution_count": 35,
      "outputs": [
        {
          "output_type": "stream",
          "name": "stdout",
          "text": [
            "Correlation coefficient between sepal length and petal length: 0.8717537758865831\n"
          ]
        }
      ]
    },
    {
      "cell_type": "code",
      "source": [
        "unique_species, species_counts = np.unique(y, return_counts=True)\n",
        "\n",
        "print(\"Species counts:\")\n",
        "for species, count in zip(unique_species, species_counts):\n",
        "    print(f\"Species {species}: {count} occurrences\")\n"
      ],
      "metadata": {
        "colab": {
          "base_uri": "https://localhost:8080/"
        },
        "id": "YSYf2Z41pHMO",
        "outputId": "c3c2e1e9-24e6-4cbf-dced-18515d808512"
      },
      "execution_count": 39,
      "outputs": [
        {
          "output_type": "stream",
          "name": "stdout",
          "text": [
            "Species counts:\n",
            "Species 0: 50 occurrences\n",
            "Species 1: 50 occurrences\n",
            "Species 2: 50 occurrences\n"
          ]
        }
      ]
    },
    {
      "cell_type": "code",
      "source": [
        "sns.load_dataset(\"iris\")"
      ],
      "metadata": {
        "colab": {
          "base_uri": "https://localhost:8080/",
          "height": 423
        },
        "id": "LywsBdvwpSUp",
        "outputId": "425eb5ca-b4a5-43a2-c449-119e8d8cfff4"
      },
      "execution_count": 43,
      "outputs": [
        {
          "output_type": "execute_result",
          "data": {
            "text/plain": [
              "     sepal_length  sepal_width  petal_length  petal_width    species\n",
              "0             5.1          3.5           1.4          0.2     setosa\n",
              "1             4.9          3.0           1.4          0.2     setosa\n",
              "2             4.7          3.2           1.3          0.2     setosa\n",
              "3             4.6          3.1           1.5          0.2     setosa\n",
              "4             5.0          3.6           1.4          0.2     setosa\n",
              "..            ...          ...           ...          ...        ...\n",
              "145           6.7          3.0           5.2          2.3  virginica\n",
              "146           6.3          2.5           5.0          1.9  virginica\n",
              "147           6.5          3.0           5.2          2.0  virginica\n",
              "148           6.2          3.4           5.4          2.3  virginica\n",
              "149           5.9          3.0           5.1          1.8  virginica\n",
              "\n",
              "[150 rows x 5 columns]"
            ],
            "text/html": [
              "\n",
              "  <div id=\"df-dc7eeff0-8138-4ab3-9c80-4aac68838859\" class=\"colab-df-container\">\n",
              "    <div>\n",
              "<style scoped>\n",
              "    .dataframe tbody tr th:only-of-type {\n",
              "        vertical-align: middle;\n",
              "    }\n",
              "\n",
              "    .dataframe tbody tr th {\n",
              "        vertical-align: top;\n",
              "    }\n",
              "\n",
              "    .dataframe thead th {\n",
              "        text-align: right;\n",
              "    }\n",
              "</style>\n",
              "<table border=\"1\" class=\"dataframe\">\n",
              "  <thead>\n",
              "    <tr style=\"text-align: right;\">\n",
              "      <th></th>\n",
              "      <th>sepal_length</th>\n",
              "      <th>sepal_width</th>\n",
              "      <th>petal_length</th>\n",
              "      <th>petal_width</th>\n",
              "      <th>species</th>\n",
              "    </tr>\n",
              "  </thead>\n",
              "  <tbody>\n",
              "    <tr>\n",
              "      <th>0</th>\n",
              "      <td>5.1</td>\n",
              "      <td>3.5</td>\n",
              "      <td>1.4</td>\n",
              "      <td>0.2</td>\n",
              "      <td>setosa</td>\n",
              "    </tr>\n",
              "    <tr>\n",
              "      <th>1</th>\n",
              "      <td>4.9</td>\n",
              "      <td>3.0</td>\n",
              "      <td>1.4</td>\n",
              "      <td>0.2</td>\n",
              "      <td>setosa</td>\n",
              "    </tr>\n",
              "    <tr>\n",
              "      <th>2</th>\n",
              "      <td>4.7</td>\n",
              "      <td>3.2</td>\n",
              "      <td>1.3</td>\n",
              "      <td>0.2</td>\n",
              "      <td>setosa</td>\n",
              "    </tr>\n",
              "    <tr>\n",
              "      <th>3</th>\n",
              "      <td>4.6</td>\n",
              "      <td>3.1</td>\n",
              "      <td>1.5</td>\n",
              "      <td>0.2</td>\n",
              "      <td>setosa</td>\n",
              "    </tr>\n",
              "    <tr>\n",
              "      <th>4</th>\n",
              "      <td>5.0</td>\n",
              "      <td>3.6</td>\n",
              "      <td>1.4</td>\n",
              "      <td>0.2</td>\n",
              "      <td>setosa</td>\n",
              "    </tr>\n",
              "    <tr>\n",
              "      <th>...</th>\n",
              "      <td>...</td>\n",
              "      <td>...</td>\n",
              "      <td>...</td>\n",
              "      <td>...</td>\n",
              "      <td>...</td>\n",
              "    </tr>\n",
              "    <tr>\n",
              "      <th>145</th>\n",
              "      <td>6.7</td>\n",
              "      <td>3.0</td>\n",
              "      <td>5.2</td>\n",
              "      <td>2.3</td>\n",
              "      <td>virginica</td>\n",
              "    </tr>\n",
              "    <tr>\n",
              "      <th>146</th>\n",
              "      <td>6.3</td>\n",
              "      <td>2.5</td>\n",
              "      <td>5.0</td>\n",
              "      <td>1.9</td>\n",
              "      <td>virginica</td>\n",
              "    </tr>\n",
              "    <tr>\n",
              "      <th>147</th>\n",
              "      <td>6.5</td>\n",
              "      <td>3.0</td>\n",
              "      <td>5.2</td>\n",
              "      <td>2.0</td>\n",
              "      <td>virginica</td>\n",
              "    </tr>\n",
              "    <tr>\n",
              "      <th>148</th>\n",
              "      <td>6.2</td>\n",
              "      <td>3.4</td>\n",
              "      <td>5.4</td>\n",
              "      <td>2.3</td>\n",
              "      <td>virginica</td>\n",
              "    </tr>\n",
              "    <tr>\n",
              "      <th>149</th>\n",
              "      <td>5.9</td>\n",
              "      <td>3.0</td>\n",
              "      <td>5.1</td>\n",
              "      <td>1.8</td>\n",
              "      <td>virginica</td>\n",
              "    </tr>\n",
              "  </tbody>\n",
              "</table>\n",
              "<p>150 rows × 5 columns</p>\n",
              "</div>\n",
              "    <div class=\"colab-df-buttons\">\n",
              "\n",
              "  <div class=\"colab-df-container\">\n",
              "    <button class=\"colab-df-convert\" onclick=\"convertToInteractive('df-dc7eeff0-8138-4ab3-9c80-4aac68838859')\"\n",
              "            title=\"Convert this dataframe to an interactive table.\"\n",
              "            style=\"display:none;\">\n",
              "\n",
              "  <svg xmlns=\"http://www.w3.org/2000/svg\" height=\"24px\" viewBox=\"0 -960 960 960\">\n",
              "    <path d=\"M120-120v-720h720v720H120Zm60-500h600v-160H180v160Zm220 220h160v-160H400v160Zm0 220h160v-160H400v160ZM180-400h160v-160H180v160Zm440 0h160v-160H620v160ZM180-180h160v-160H180v160Zm440 0h160v-160H620v160Z\"/>\n",
              "  </svg>\n",
              "    </button>\n",
              "\n",
              "  <style>\n",
              "    .colab-df-container {\n",
              "      display:flex;\n",
              "      gap: 12px;\n",
              "    }\n",
              "\n",
              "    .colab-df-convert {\n",
              "      background-color: #E8F0FE;\n",
              "      border: none;\n",
              "      border-radius: 50%;\n",
              "      cursor: pointer;\n",
              "      display: none;\n",
              "      fill: #1967D2;\n",
              "      height: 32px;\n",
              "      padding: 0 0 0 0;\n",
              "      width: 32px;\n",
              "    }\n",
              "\n",
              "    .colab-df-convert:hover {\n",
              "      background-color: #E2EBFA;\n",
              "      box-shadow: 0px 1px 2px rgba(60, 64, 67, 0.3), 0px 1px 3px 1px rgba(60, 64, 67, 0.15);\n",
              "      fill: #174EA6;\n",
              "    }\n",
              "\n",
              "    .colab-df-buttons div {\n",
              "      margin-bottom: 4px;\n",
              "    }\n",
              "\n",
              "    [theme=dark] .colab-df-convert {\n",
              "      background-color: #3B4455;\n",
              "      fill: #D2E3FC;\n",
              "    }\n",
              "\n",
              "    [theme=dark] .colab-df-convert:hover {\n",
              "      background-color: #434B5C;\n",
              "      box-shadow: 0px 1px 3px 1px rgba(0, 0, 0, 0.15);\n",
              "      filter: drop-shadow(0px 1px 2px rgba(0, 0, 0, 0.3));\n",
              "      fill: #FFFFFF;\n",
              "    }\n",
              "  </style>\n",
              "\n",
              "    <script>\n",
              "      const buttonEl =\n",
              "        document.querySelector('#df-dc7eeff0-8138-4ab3-9c80-4aac68838859 button.colab-df-convert');\n",
              "      buttonEl.style.display =\n",
              "        google.colab.kernel.accessAllowed ? 'block' : 'none';\n",
              "\n",
              "      async function convertToInteractive(key) {\n",
              "        const element = document.querySelector('#df-dc7eeff0-8138-4ab3-9c80-4aac68838859');\n",
              "        const dataTable =\n",
              "          await google.colab.kernel.invokeFunction('convertToInteractive',\n",
              "                                                    [key], {});\n",
              "        if (!dataTable) return;\n",
              "\n",
              "        const docLinkHtml = 'Like what you see? Visit the ' +\n",
              "          '<a target=\"_blank\" href=https://colab.research.google.com/notebooks/data_table.ipynb>data table notebook</a>'\n",
              "          + ' to learn more about interactive tables.';\n",
              "        element.innerHTML = '';\n",
              "        dataTable['output_type'] = 'display_data';\n",
              "        await google.colab.output.renderOutput(dataTable, element);\n",
              "        const docLink = document.createElement('div');\n",
              "        docLink.innerHTML = docLinkHtml;\n",
              "        element.appendChild(docLink);\n",
              "      }\n",
              "    </script>\n",
              "  </div>\n",
              "\n",
              "\n",
              "<div id=\"df-5bd70f51-9748-49b9-ac4f-2280b3e12784\">\n",
              "  <button class=\"colab-df-quickchart\" onclick=\"quickchart('df-5bd70f51-9748-49b9-ac4f-2280b3e12784')\"\n",
              "            title=\"Suggest charts.\"\n",
              "            style=\"display:none;\">\n",
              "\n",
              "<svg xmlns=\"http://www.w3.org/2000/svg\" height=\"24px\"viewBox=\"0 0 24 24\"\n",
              "     width=\"24px\">\n",
              "    <g>\n",
              "        <path d=\"M19 3H5c-1.1 0-2 .9-2 2v14c0 1.1.9 2 2 2h14c1.1 0 2-.9 2-2V5c0-1.1-.9-2-2-2zM9 17H7v-7h2v7zm4 0h-2V7h2v10zm4 0h-2v-4h2v4z\"/>\n",
              "    </g>\n",
              "</svg>\n",
              "  </button>\n",
              "\n",
              "<style>\n",
              "  .colab-df-quickchart {\n",
              "      --bg-color: #E8F0FE;\n",
              "      --fill-color: #1967D2;\n",
              "      --hover-bg-color: #E2EBFA;\n",
              "      --hover-fill-color: #174EA6;\n",
              "      --disabled-fill-color: #AAA;\n",
              "      --disabled-bg-color: #DDD;\n",
              "  }\n",
              "\n",
              "  [theme=dark] .colab-df-quickchart {\n",
              "      --bg-color: #3B4455;\n",
              "      --fill-color: #D2E3FC;\n",
              "      --hover-bg-color: #434B5C;\n",
              "      --hover-fill-color: #FFFFFF;\n",
              "      --disabled-bg-color: #3B4455;\n",
              "      --disabled-fill-color: #666;\n",
              "  }\n",
              "\n",
              "  .colab-df-quickchart {\n",
              "    background-color: var(--bg-color);\n",
              "    border: none;\n",
              "    border-radius: 50%;\n",
              "    cursor: pointer;\n",
              "    display: none;\n",
              "    fill: var(--fill-color);\n",
              "    height: 32px;\n",
              "    padding: 0;\n",
              "    width: 32px;\n",
              "  }\n",
              "\n",
              "  .colab-df-quickchart:hover {\n",
              "    background-color: var(--hover-bg-color);\n",
              "    box-shadow: 0 1px 2px rgba(60, 64, 67, 0.3), 0 1px 3px 1px rgba(60, 64, 67, 0.15);\n",
              "    fill: var(--button-hover-fill-color);\n",
              "  }\n",
              "\n",
              "  .colab-df-quickchart-complete:disabled,\n",
              "  .colab-df-quickchart-complete:disabled:hover {\n",
              "    background-color: var(--disabled-bg-color);\n",
              "    fill: var(--disabled-fill-color);\n",
              "    box-shadow: none;\n",
              "  }\n",
              "\n",
              "  .colab-df-spinner {\n",
              "    border: 2px solid var(--fill-color);\n",
              "    border-color: transparent;\n",
              "    border-bottom-color: var(--fill-color);\n",
              "    animation:\n",
              "      spin 1s steps(1) infinite;\n",
              "  }\n",
              "\n",
              "  @keyframes spin {\n",
              "    0% {\n",
              "      border-color: transparent;\n",
              "      border-bottom-color: var(--fill-color);\n",
              "      border-left-color: var(--fill-color);\n",
              "    }\n",
              "    20% {\n",
              "      border-color: transparent;\n",
              "      border-left-color: var(--fill-color);\n",
              "      border-top-color: var(--fill-color);\n",
              "    }\n",
              "    30% {\n",
              "      border-color: transparent;\n",
              "      border-left-color: var(--fill-color);\n",
              "      border-top-color: var(--fill-color);\n",
              "      border-right-color: var(--fill-color);\n",
              "    }\n",
              "    40% {\n",
              "      border-color: transparent;\n",
              "      border-right-color: var(--fill-color);\n",
              "      border-top-color: var(--fill-color);\n",
              "    }\n",
              "    60% {\n",
              "      border-color: transparent;\n",
              "      border-right-color: var(--fill-color);\n",
              "    }\n",
              "    80% {\n",
              "      border-color: transparent;\n",
              "      border-right-color: var(--fill-color);\n",
              "      border-bottom-color: var(--fill-color);\n",
              "    }\n",
              "    90% {\n",
              "      border-color: transparent;\n",
              "      border-bottom-color: var(--fill-color);\n",
              "    }\n",
              "  }\n",
              "</style>\n",
              "\n",
              "  <script>\n",
              "    async function quickchart(key) {\n",
              "      const quickchartButtonEl =\n",
              "        document.querySelector('#' + key + ' button');\n",
              "      quickchartButtonEl.disabled = true;  // To prevent multiple clicks.\n",
              "      quickchartButtonEl.classList.add('colab-df-spinner');\n",
              "      try {\n",
              "        const charts = await google.colab.kernel.invokeFunction(\n",
              "            'suggestCharts', [key], {});\n",
              "      } catch (error) {\n",
              "        console.error('Error during call to suggestCharts:', error);\n",
              "      }\n",
              "      quickchartButtonEl.classList.remove('colab-df-spinner');\n",
              "      quickchartButtonEl.classList.add('colab-df-quickchart-complete');\n",
              "    }\n",
              "    (() => {\n",
              "      let quickchartButtonEl =\n",
              "        document.querySelector('#df-5bd70f51-9748-49b9-ac4f-2280b3e12784 button');\n",
              "      quickchartButtonEl.style.display =\n",
              "        google.colab.kernel.accessAllowed ? 'block' : 'none';\n",
              "    })();\n",
              "  </script>\n",
              "</div>\n",
              "    </div>\n",
              "  </div>\n"
            ]
          },
          "metadata": {},
          "execution_count": 43
        }
      ]
    },
    {
      "cell_type": "code",
      "source": [
        "petal_width = x[:, 3]  # Extract petal width feature ????\n",
        "scale_petal_width = (petal_width - np.mean(petal_width)) / np.std(petal_width)\n",
        "\n",
        "print(\"Scale petal width:\")\n",
        "print(scale_petal_width)\n"
      ],
      "metadata": {
        "colab": {
          "base_uri": "https://localhost:8080/"
        },
        "id": "Pj2GLMUbpWdV",
        "outputId": "d6908718-7adb-48ad-dbea-6932fc9a947c"
      },
      "execution_count": 46,
      "outputs": [
        {
          "output_type": "stream",
          "name": "stdout",
          "text": [
            "Scale petal width:\n",
            "[-1.31544430e+00 -1.31544430e+00 -1.31544430e+00 -1.31544430e+00\n",
            " -1.31544430e+00 -1.05217993e+00 -1.18381211e+00 -1.31544430e+00\n",
            " -1.31544430e+00 -1.44707648e+00 -1.31544430e+00 -1.31544430e+00\n",
            " -1.44707648e+00 -1.44707648e+00 -1.31544430e+00 -1.05217993e+00\n",
            " -1.05217993e+00 -1.18381211e+00 -1.18381211e+00 -1.18381211e+00\n",
            " -1.31544430e+00 -1.05217993e+00 -1.31544430e+00 -9.20547742e-01\n",
            " -1.31544430e+00 -1.31544430e+00 -1.05217993e+00 -1.31544430e+00\n",
            " -1.31544430e+00 -1.31544430e+00 -1.31544430e+00 -1.05217993e+00\n",
            " -1.44707648e+00 -1.31544430e+00 -1.31544430e+00 -1.31544430e+00\n",
            " -1.31544430e+00 -1.44707648e+00 -1.31544430e+00 -1.31544430e+00\n",
            " -1.18381211e+00 -1.18381211e+00 -1.31544430e+00 -7.88915558e-01\n",
            " -1.05217993e+00 -1.18381211e+00 -1.31544430e+00 -1.31544430e+00\n",
            " -1.31544430e+00 -1.31544430e+00  2.64141916e-01  3.95774101e-01\n",
            "  3.95774101e-01  1.32509732e-01  3.95774101e-01  1.32509732e-01\n",
            "  5.27406285e-01 -2.62386821e-01  1.32509732e-01  2.64141916e-01\n",
            " -2.62386821e-01  3.95774101e-01 -2.62386821e-01  2.64141916e-01\n",
            "  1.32509732e-01  2.64141916e-01  3.95774101e-01 -2.62386821e-01\n",
            "  3.95774101e-01 -1.30754636e-01  7.90670654e-01  1.32509732e-01\n",
            "  3.95774101e-01  8.77547895e-04  1.32509732e-01  2.64141916e-01\n",
            "  2.64141916e-01  6.59038469e-01  3.95774101e-01 -2.62386821e-01\n",
            " -1.30754636e-01 -2.62386821e-01  8.77547895e-04  5.27406285e-01\n",
            "  3.95774101e-01  5.27406285e-01  3.95774101e-01  1.32509732e-01\n",
            "  1.32509732e-01  1.32509732e-01  8.77547895e-04  2.64141916e-01\n",
            "  8.77547895e-04 -2.62386821e-01  1.32509732e-01  8.77547895e-04\n",
            "  1.32509732e-01  1.32509732e-01 -1.30754636e-01  1.32509732e-01\n",
            "  1.71209594e+00  9.22302838e-01  1.18556721e+00  7.90670654e-01\n",
            "  1.31719939e+00  1.18556721e+00  6.59038469e-01  7.90670654e-01\n",
            "  7.90670654e-01  1.71209594e+00  1.05393502e+00  9.22302838e-01\n",
            "  1.18556721e+00  1.05393502e+00  1.58046376e+00  1.44883158e+00\n",
            "  7.90670654e-01  1.31719939e+00  1.44883158e+00  3.95774101e-01\n",
            "  1.44883158e+00  1.05393502e+00  1.05393502e+00  7.90670654e-01\n",
            "  1.18556721e+00  7.90670654e-01  7.90670654e-01  7.90670654e-01\n",
            "  1.18556721e+00  5.27406285e-01  9.22302838e-01  1.05393502e+00\n",
            "  1.31719939e+00  3.95774101e-01  2.64141916e-01  1.44883158e+00\n",
            "  1.58046376e+00  7.90670654e-01  7.90670654e-01  1.18556721e+00\n",
            "  1.58046376e+00  1.44883158e+00  9.22302838e-01  1.44883158e+00\n",
            "  1.71209594e+00  1.44883158e+00  9.22302838e-01  1.05393502e+00\n",
            "  1.44883158e+00  7.90670654e-01]\n"
          ]
        }
      ]
    },
    {
      "cell_type": "code",
      "source": [
        "from sklearn.preprocessing import StandardScaler\n",
        "# StandardScaler\n",
        "scalar = StandardScaler()\n",
        "scalar.fit_transform(x)"
      ],
      "metadata": {
        "colab": {
          "base_uri": "https://localhost:8080/"
        },
        "id": "BQBRZp7kphtr",
        "outputId": "87b2b35b-e5a9-480c-c668-feda95519a08"
      },
      "execution_count": 48,
      "outputs": [
        {
          "output_type": "execute_result",
          "data": {
            "text/plain": [
              "array([[-9.00681170e-01,  1.01900435e+00, -1.34022653e+00,\n",
              "        -1.31544430e+00],\n",
              "       [-1.14301691e+00, -1.31979479e-01, -1.34022653e+00,\n",
              "        -1.31544430e+00],\n",
              "       [-1.38535265e+00,  3.28414053e-01, -1.39706395e+00,\n",
              "        -1.31544430e+00],\n",
              "       [-1.50652052e+00,  9.82172869e-02, -1.28338910e+00,\n",
              "        -1.31544430e+00],\n",
              "       [-1.02184904e+00,  1.24920112e+00, -1.34022653e+00,\n",
              "        -1.31544430e+00],\n",
              "       [-5.37177559e-01,  1.93979142e+00, -1.16971425e+00,\n",
              "        -1.05217993e+00],\n",
              "       [-1.50652052e+00,  7.88807586e-01, -1.34022653e+00,\n",
              "        -1.18381211e+00],\n",
              "       [-1.02184904e+00,  7.88807586e-01, -1.28338910e+00,\n",
              "        -1.31544430e+00],\n",
              "       [-1.74885626e+00, -3.62176246e-01, -1.34022653e+00,\n",
              "        -1.31544430e+00],\n",
              "       [-1.14301691e+00,  9.82172869e-02, -1.28338910e+00,\n",
              "        -1.44707648e+00],\n",
              "       [-5.37177559e-01,  1.47939788e+00, -1.28338910e+00,\n",
              "        -1.31544430e+00],\n",
              "       [-1.26418478e+00,  7.88807586e-01, -1.22655167e+00,\n",
              "        -1.31544430e+00],\n",
              "       [-1.26418478e+00, -1.31979479e-01, -1.34022653e+00,\n",
              "        -1.44707648e+00],\n",
              "       [-1.87002413e+00, -1.31979479e-01, -1.51073881e+00,\n",
              "        -1.44707648e+00],\n",
              "       [-5.25060772e-02,  2.16998818e+00, -1.45390138e+00,\n",
              "        -1.31544430e+00],\n",
              "       [-1.73673948e-01,  3.09077525e+00, -1.28338910e+00,\n",
              "        -1.05217993e+00],\n",
              "       [-5.37177559e-01,  1.93979142e+00, -1.39706395e+00,\n",
              "        -1.05217993e+00],\n",
              "       [-9.00681170e-01,  1.01900435e+00, -1.34022653e+00,\n",
              "        -1.18381211e+00],\n",
              "       [-1.73673948e-01,  1.70959465e+00, -1.16971425e+00,\n",
              "        -1.18381211e+00],\n",
              "       [-9.00681170e-01,  1.70959465e+00, -1.28338910e+00,\n",
              "        -1.18381211e+00],\n",
              "       [-5.37177559e-01,  7.88807586e-01, -1.16971425e+00,\n",
              "        -1.31544430e+00],\n",
              "       [-9.00681170e-01,  1.47939788e+00, -1.28338910e+00,\n",
              "        -1.05217993e+00],\n",
              "       [-1.50652052e+00,  1.24920112e+00, -1.56757623e+00,\n",
              "        -1.31544430e+00],\n",
              "       [-9.00681170e-01,  5.58610819e-01, -1.16971425e+00,\n",
              "        -9.20547742e-01],\n",
              "       [-1.26418478e+00,  7.88807586e-01, -1.05603939e+00,\n",
              "        -1.31544430e+00],\n",
              "       [-1.02184904e+00, -1.31979479e-01, -1.22655167e+00,\n",
              "        -1.31544430e+00],\n",
              "       [-1.02184904e+00,  7.88807586e-01, -1.22655167e+00,\n",
              "        -1.05217993e+00],\n",
              "       [-7.79513300e-01,  1.01900435e+00, -1.28338910e+00,\n",
              "        -1.31544430e+00],\n",
              "       [-7.79513300e-01,  7.88807586e-01, -1.34022653e+00,\n",
              "        -1.31544430e+00],\n",
              "       [-1.38535265e+00,  3.28414053e-01, -1.22655167e+00,\n",
              "        -1.31544430e+00],\n",
              "       [-1.26418478e+00,  9.82172869e-02, -1.22655167e+00,\n",
              "        -1.31544430e+00],\n",
              "       [-5.37177559e-01,  7.88807586e-01, -1.28338910e+00,\n",
              "        -1.05217993e+00],\n",
              "       [-7.79513300e-01,  2.40018495e+00, -1.28338910e+00,\n",
              "        -1.44707648e+00],\n",
              "       [-4.16009689e-01,  2.63038172e+00, -1.34022653e+00,\n",
              "        -1.31544430e+00],\n",
              "       [-1.14301691e+00,  9.82172869e-02, -1.28338910e+00,\n",
              "        -1.31544430e+00],\n",
              "       [-1.02184904e+00,  3.28414053e-01, -1.45390138e+00,\n",
              "        -1.31544430e+00],\n",
              "       [-4.16009689e-01,  1.01900435e+00, -1.39706395e+00,\n",
              "        -1.31544430e+00],\n",
              "       [-1.14301691e+00,  1.24920112e+00, -1.34022653e+00,\n",
              "        -1.44707648e+00],\n",
              "       [-1.74885626e+00, -1.31979479e-01, -1.39706395e+00,\n",
              "        -1.31544430e+00],\n",
              "       [-9.00681170e-01,  7.88807586e-01, -1.28338910e+00,\n",
              "        -1.31544430e+00],\n",
              "       [-1.02184904e+00,  1.01900435e+00, -1.39706395e+00,\n",
              "        -1.18381211e+00],\n",
              "       [-1.62768839e+00, -1.74335684e+00, -1.39706395e+00,\n",
              "        -1.18381211e+00],\n",
              "       [-1.74885626e+00,  3.28414053e-01, -1.39706395e+00,\n",
              "        -1.31544430e+00],\n",
              "       [-1.02184904e+00,  1.01900435e+00, -1.22655167e+00,\n",
              "        -7.88915558e-01],\n",
              "       [-9.00681170e-01,  1.70959465e+00, -1.05603939e+00,\n",
              "        -1.05217993e+00],\n",
              "       [-1.26418478e+00, -1.31979479e-01, -1.34022653e+00,\n",
              "        -1.18381211e+00],\n",
              "       [-9.00681170e-01,  1.70959465e+00, -1.22655167e+00,\n",
              "        -1.31544430e+00],\n",
              "       [-1.50652052e+00,  3.28414053e-01, -1.34022653e+00,\n",
              "        -1.31544430e+00],\n",
              "       [-6.58345429e-01,  1.47939788e+00, -1.28338910e+00,\n",
              "        -1.31544430e+00],\n",
              "       [-1.02184904e+00,  5.58610819e-01, -1.34022653e+00,\n",
              "        -1.31544430e+00],\n",
              "       [ 1.40150837e+00,  3.28414053e-01,  5.35408562e-01,\n",
              "         2.64141916e-01],\n",
              "       [ 6.74501145e-01,  3.28414053e-01,  4.21733708e-01,\n",
              "         3.95774101e-01],\n",
              "       [ 1.28034050e+00,  9.82172869e-02,  6.49083415e-01,\n",
              "         3.95774101e-01],\n",
              "       [-4.16009689e-01, -1.74335684e+00,  1.37546573e-01,\n",
              "         1.32509732e-01],\n",
              "       [ 7.95669016e-01, -5.92373012e-01,  4.78571135e-01,\n",
              "         3.95774101e-01],\n",
              "       [-1.73673948e-01, -5.92373012e-01,  4.21733708e-01,\n",
              "         1.32509732e-01],\n",
              "       [ 5.53333275e-01,  5.58610819e-01,  5.35408562e-01,\n",
              "         5.27406285e-01],\n",
              "       [-1.14301691e+00, -1.51316008e+00, -2.60315415e-01,\n",
              "        -2.62386821e-01],\n",
              "       [ 9.16836886e-01, -3.62176246e-01,  4.78571135e-01,\n",
              "         1.32509732e-01],\n",
              "       [-7.79513300e-01, -8.22569778e-01,  8.07091462e-02,\n",
              "         2.64141916e-01],\n",
              "       [-1.02184904e+00, -2.43394714e+00, -1.46640561e-01,\n",
              "        -2.62386821e-01],\n",
              "       [ 6.86617933e-02, -1.31979479e-01,  2.51221427e-01,\n",
              "         3.95774101e-01],\n",
              "       [ 1.89829664e-01, -1.97355361e+00,  1.37546573e-01,\n",
              "        -2.62386821e-01],\n",
              "       [ 3.10997534e-01, -3.62176246e-01,  5.35408562e-01,\n",
              "         2.64141916e-01],\n",
              "       [-2.94841818e-01, -3.62176246e-01, -8.98031345e-02,\n",
              "         1.32509732e-01],\n",
              "       [ 1.03800476e+00,  9.82172869e-02,  3.64896281e-01,\n",
              "         2.64141916e-01],\n",
              "       [-2.94841818e-01, -1.31979479e-01,  4.21733708e-01,\n",
              "         3.95774101e-01],\n",
              "       [-5.25060772e-02, -8.22569778e-01,  1.94384000e-01,\n",
              "        -2.62386821e-01],\n",
              "       [ 4.32165405e-01, -1.97355361e+00,  4.21733708e-01,\n",
              "         3.95774101e-01],\n",
              "       [-2.94841818e-01, -1.28296331e+00,  8.07091462e-02,\n",
              "        -1.30754636e-01],\n",
              "       [ 6.86617933e-02,  3.28414053e-01,  5.92245988e-01,\n",
              "         7.90670654e-01],\n",
              "       [ 3.10997534e-01, -5.92373012e-01,  1.37546573e-01,\n",
              "         1.32509732e-01],\n",
              "       [ 5.53333275e-01, -1.28296331e+00,  6.49083415e-01,\n",
              "         3.95774101e-01],\n",
              "       [ 3.10997534e-01, -5.92373012e-01,  5.35408562e-01,\n",
              "         8.77547895e-04],\n",
              "       [ 6.74501145e-01, -3.62176246e-01,  3.08058854e-01,\n",
              "         1.32509732e-01],\n",
              "       [ 9.16836886e-01, -1.31979479e-01,  3.64896281e-01,\n",
              "         2.64141916e-01],\n",
              "       [ 1.15917263e+00, -5.92373012e-01,  5.92245988e-01,\n",
              "         2.64141916e-01],\n",
              "       [ 1.03800476e+00, -1.31979479e-01,  7.05920842e-01,\n",
              "         6.59038469e-01],\n",
              "       [ 1.89829664e-01, -3.62176246e-01,  4.21733708e-01,\n",
              "         3.95774101e-01],\n",
              "       [-1.73673948e-01, -1.05276654e+00, -1.46640561e-01,\n",
              "        -2.62386821e-01],\n",
              "       [-4.16009689e-01, -1.51316008e+00,  2.38717193e-02,\n",
              "        -1.30754636e-01],\n",
              "       [-4.16009689e-01, -1.51316008e+00, -3.29657076e-02,\n",
              "        -2.62386821e-01],\n",
              "       [-5.25060772e-02, -8.22569778e-01,  8.07091462e-02,\n",
              "         8.77547895e-04],\n",
              "       [ 1.89829664e-01, -8.22569778e-01,  7.62758269e-01,\n",
              "         5.27406285e-01],\n",
              "       [-5.37177559e-01, -1.31979479e-01,  4.21733708e-01,\n",
              "         3.95774101e-01],\n",
              "       [ 1.89829664e-01,  7.88807586e-01,  4.21733708e-01,\n",
              "         5.27406285e-01],\n",
              "       [ 1.03800476e+00,  9.82172869e-02,  5.35408562e-01,\n",
              "         3.95774101e-01],\n",
              "       [ 5.53333275e-01, -1.74335684e+00,  3.64896281e-01,\n",
              "         1.32509732e-01],\n",
              "       [-2.94841818e-01, -1.31979479e-01,  1.94384000e-01,\n",
              "         1.32509732e-01],\n",
              "       [-4.16009689e-01, -1.28296331e+00,  1.37546573e-01,\n",
              "         1.32509732e-01],\n",
              "       [-4.16009689e-01, -1.05276654e+00,  3.64896281e-01,\n",
              "         8.77547895e-04],\n",
              "       [ 3.10997534e-01, -1.31979479e-01,  4.78571135e-01,\n",
              "         2.64141916e-01],\n",
              "       [-5.25060772e-02, -1.05276654e+00,  1.37546573e-01,\n",
              "         8.77547895e-04],\n",
              "       [-1.02184904e+00, -1.74335684e+00, -2.60315415e-01,\n",
              "        -2.62386821e-01],\n",
              "       [-2.94841818e-01, -8.22569778e-01,  2.51221427e-01,\n",
              "         1.32509732e-01],\n",
              "       [-1.73673948e-01, -1.31979479e-01,  2.51221427e-01,\n",
              "         8.77547895e-04],\n",
              "       [-1.73673948e-01, -3.62176246e-01,  2.51221427e-01,\n",
              "         1.32509732e-01],\n",
              "       [ 4.32165405e-01, -3.62176246e-01,  3.08058854e-01,\n",
              "         1.32509732e-01],\n",
              "       [-9.00681170e-01, -1.28296331e+00, -4.30827696e-01,\n",
              "        -1.30754636e-01],\n",
              "       [-1.73673948e-01, -5.92373012e-01,  1.94384000e-01,\n",
              "         1.32509732e-01],\n",
              "       [ 5.53333275e-01,  5.58610819e-01,  1.27429511e+00,\n",
              "         1.71209594e+00],\n",
              "       [-5.25060772e-02, -8.22569778e-01,  7.62758269e-01,\n",
              "         9.22302838e-01],\n",
              "       [ 1.52267624e+00, -1.31979479e-01,  1.21745768e+00,\n",
              "         1.18556721e+00],\n",
              "       [ 5.53333275e-01, -3.62176246e-01,  1.04694540e+00,\n",
              "         7.90670654e-01],\n",
              "       [ 7.95669016e-01, -1.31979479e-01,  1.16062026e+00,\n",
              "         1.31719939e+00],\n",
              "       [ 2.12851559e+00, -1.31979479e-01,  1.61531967e+00,\n",
              "         1.18556721e+00],\n",
              "       [-1.14301691e+00, -1.28296331e+00,  4.21733708e-01,\n",
              "         6.59038469e-01],\n",
              "       [ 1.76501198e+00, -3.62176246e-01,  1.44480739e+00,\n",
              "         7.90670654e-01],\n",
              "       [ 1.03800476e+00, -1.28296331e+00,  1.16062026e+00,\n",
              "         7.90670654e-01],\n",
              "       [ 1.64384411e+00,  1.24920112e+00,  1.33113254e+00,\n",
              "         1.71209594e+00],\n",
              "       [ 7.95669016e-01,  3.28414053e-01,  7.62758269e-01,\n",
              "         1.05393502e+00],\n",
              "       [ 6.74501145e-01, -8.22569778e-01,  8.76433123e-01,\n",
              "         9.22302838e-01],\n",
              "       [ 1.15917263e+00, -1.31979479e-01,  9.90107977e-01,\n",
              "         1.18556721e+00],\n",
              "       [-1.73673948e-01, -1.28296331e+00,  7.05920842e-01,\n",
              "         1.05393502e+00],\n",
              "       [-5.25060772e-02, -5.92373012e-01,  7.62758269e-01,\n",
              "         1.58046376e+00],\n",
              "       [ 6.74501145e-01,  3.28414053e-01,  8.76433123e-01,\n",
              "         1.44883158e+00],\n",
              "       [ 7.95669016e-01, -1.31979479e-01,  9.90107977e-01,\n",
              "         7.90670654e-01],\n",
              "       [ 2.24968346e+00,  1.70959465e+00,  1.67215710e+00,\n",
              "         1.31719939e+00],\n",
              "       [ 2.24968346e+00, -1.05276654e+00,  1.78583195e+00,\n",
              "         1.44883158e+00],\n",
              "       [ 1.89829664e-01, -1.97355361e+00,  7.05920842e-01,\n",
              "         3.95774101e-01],\n",
              "       [ 1.28034050e+00,  3.28414053e-01,  1.10378283e+00,\n",
              "         1.44883158e+00],\n",
              "       [-2.94841818e-01, -5.92373012e-01,  6.49083415e-01,\n",
              "         1.05393502e+00],\n",
              "       [ 2.24968346e+00, -5.92373012e-01,  1.67215710e+00,\n",
              "         1.05393502e+00],\n",
              "       [ 5.53333275e-01, -8.22569778e-01,  6.49083415e-01,\n",
              "         7.90670654e-01],\n",
              "       [ 1.03800476e+00,  5.58610819e-01,  1.10378283e+00,\n",
              "         1.18556721e+00],\n",
              "       [ 1.64384411e+00,  3.28414053e-01,  1.27429511e+00,\n",
              "         7.90670654e-01],\n",
              "       [ 4.32165405e-01, -5.92373012e-01,  5.92245988e-01,\n",
              "         7.90670654e-01],\n",
              "       [ 3.10997534e-01, -1.31979479e-01,  6.49083415e-01,\n",
              "         7.90670654e-01],\n",
              "       [ 6.74501145e-01, -5.92373012e-01,  1.04694540e+00,\n",
              "         1.18556721e+00],\n",
              "       [ 1.64384411e+00, -1.31979479e-01,  1.16062026e+00,\n",
              "         5.27406285e-01],\n",
              "       [ 1.88617985e+00, -5.92373012e-01,  1.33113254e+00,\n",
              "         9.22302838e-01],\n",
              "       [ 2.49201920e+00,  1.70959465e+00,  1.50164482e+00,\n",
              "         1.05393502e+00],\n",
              "       [ 6.74501145e-01, -5.92373012e-01,  1.04694540e+00,\n",
              "         1.31719939e+00],\n",
              "       [ 5.53333275e-01, -5.92373012e-01,  7.62758269e-01,\n",
              "         3.95774101e-01],\n",
              "       [ 3.10997534e-01, -1.05276654e+00,  1.04694540e+00,\n",
              "         2.64141916e-01],\n",
              "       [ 2.24968346e+00, -1.31979479e-01,  1.33113254e+00,\n",
              "         1.44883158e+00],\n",
              "       [ 5.53333275e-01,  7.88807586e-01,  1.04694540e+00,\n",
              "         1.58046376e+00],\n",
              "       [ 6.74501145e-01,  9.82172869e-02,  9.90107977e-01,\n",
              "         7.90670654e-01],\n",
              "       [ 1.89829664e-01, -1.31979479e-01,  5.92245988e-01,\n",
              "         7.90670654e-01],\n",
              "       [ 1.28034050e+00,  9.82172869e-02,  9.33270550e-01,\n",
              "         1.18556721e+00],\n",
              "       [ 1.03800476e+00,  9.82172869e-02,  1.04694540e+00,\n",
              "         1.58046376e+00],\n",
              "       [ 1.28034050e+00,  9.82172869e-02,  7.62758269e-01,\n",
              "         1.44883158e+00],\n",
              "       [-5.25060772e-02, -8.22569778e-01,  7.62758269e-01,\n",
              "         9.22302838e-01],\n",
              "       [ 1.15917263e+00,  3.28414053e-01,  1.21745768e+00,\n",
              "         1.44883158e+00],\n",
              "       [ 1.03800476e+00,  5.58610819e-01,  1.10378283e+00,\n",
              "         1.71209594e+00],\n",
              "       [ 1.03800476e+00, -1.31979479e-01,  8.19595696e-01,\n",
              "         1.44883158e+00],\n",
              "       [ 5.53333275e-01, -1.28296331e+00,  7.05920842e-01,\n",
              "         9.22302838e-01],\n",
              "       [ 7.95669016e-01, -1.31979479e-01,  8.19595696e-01,\n",
              "         1.05393502e+00],\n",
              "       [ 4.32165405e-01,  7.88807586e-01,  9.33270550e-01,\n",
              "         1.44883158e+00],\n",
              "       [ 6.86617933e-02, -1.31979479e-01,  7.62758269e-01,\n",
              "         7.90670654e-01]])"
            ]
          },
          "metadata": {},
          "execution_count": 48
        }
      ]
    },
    {
      "cell_type": "code",
      "source": [
        "# Normalization\n",
        "from sklearn.preprocessing import Normalizer\n",
        "\n",
        "# Normalizer\n",
        "norm = Normalizer()\n",
        "X = norm.fit_transform(x)\n",
        "X"
      ],
      "metadata": {
        "colab": {
          "base_uri": "https://localhost:8080/"
        },
        "id": "gtrxbbeCpjiH",
        "outputId": "63492f00-c435-49af-f75f-55a95978dea2"
      },
      "execution_count": 51,
      "outputs": [
        {
          "output_type": "execute_result",
          "data": {
            "text/plain": [
              "array([[0.80377277, 0.55160877, 0.22064351, 0.0315205 ],\n",
              "       [0.82813287, 0.50702013, 0.23660939, 0.03380134],\n",
              "       [0.80533308, 0.54831188, 0.2227517 , 0.03426949],\n",
              "       [0.80003025, 0.53915082, 0.26087943, 0.03478392],\n",
              "       [0.790965  , 0.5694948 , 0.2214702 , 0.0316386 ],\n",
              "       [0.78417499, 0.5663486 , 0.2468699 , 0.05808704],\n",
              "       [0.78010936, 0.57660257, 0.23742459, 0.0508767 ],\n",
              "       [0.80218492, 0.54548574, 0.24065548, 0.0320874 ],\n",
              "       [0.80642366, 0.5315065 , 0.25658935, 0.03665562],\n",
              "       [0.81803119, 0.51752994, 0.25041771, 0.01669451],\n",
              "       [0.80373519, 0.55070744, 0.22325977, 0.02976797],\n",
              "       [0.786991  , 0.55745196, 0.26233033, 0.03279129],\n",
              "       [0.82307218, 0.51442011, 0.24006272, 0.01714734],\n",
              "       [0.8025126 , 0.55989251, 0.20529392, 0.01866308],\n",
              "       [0.81120865, 0.55945424, 0.16783627, 0.02797271],\n",
              "       [0.77381111, 0.59732787, 0.2036345 , 0.05430253],\n",
              "       [0.79428944, 0.57365349, 0.19121783, 0.05883625],\n",
              "       [0.80327412, 0.55126656, 0.22050662, 0.04725142],\n",
              "       [0.8068282 , 0.53788547, 0.24063297, 0.04246464],\n",
              "       [0.77964883, 0.58091482, 0.22930848, 0.0458617 ],\n",
              "       [0.8173379 , 0.51462016, 0.25731008, 0.03027177],\n",
              "       [0.78591858, 0.57017622, 0.23115252, 0.06164067],\n",
              "       [0.77577075, 0.60712493, 0.16864581, 0.03372916],\n",
              "       [0.80597792, 0.52151512, 0.26865931, 0.07901744],\n",
              "       [0.776114  , 0.54974742, 0.30721179, 0.03233808],\n",
              "       [0.82647451, 0.4958847 , 0.26447184, 0.03305898],\n",
              "       [0.79778206, 0.5424918 , 0.25529026, 0.06382256],\n",
              "       [0.80641965, 0.54278246, 0.23262105, 0.03101614],\n",
              "       [0.81609427, 0.5336001 , 0.21971769, 0.03138824],\n",
              "       [0.79524064, 0.54144043, 0.27072022, 0.03384003],\n",
              "       [0.80846584, 0.52213419, 0.26948861, 0.03368608],\n",
              "       [0.82225028, 0.51771314, 0.22840286, 0.06090743],\n",
              "       [0.76578311, 0.60379053, 0.22089897, 0.0147266 ],\n",
              "       [0.77867447, 0.59462414, 0.19820805, 0.02831544],\n",
              "       [0.81768942, 0.51731371, 0.25031309, 0.03337508],\n",
              "       [0.82512295, 0.52807869, 0.19802951, 0.03300492],\n",
              "       [0.82699754, 0.52627116, 0.19547215, 0.03007264],\n",
              "       [0.78523221, 0.5769053 , 0.22435206, 0.01602515],\n",
              "       [0.80212413, 0.54690282, 0.23699122, 0.03646019],\n",
              "       [0.80779568, 0.53853046, 0.23758697, 0.03167826],\n",
              "       [0.80033301, 0.56023311, 0.20808658, 0.04801998],\n",
              "       [0.86093857, 0.44003527, 0.24871559, 0.0573959 ],\n",
              "       [0.78609038, 0.57170209, 0.23225397, 0.03573138],\n",
              "       [0.78889479, 0.55222635, 0.25244633, 0.09466737],\n",
              "       [0.76693897, 0.57144472, 0.28572236, 0.06015208],\n",
              "       [0.82210585, 0.51381615, 0.23978087, 0.05138162],\n",
              "       [0.77729093, 0.57915795, 0.24385598, 0.030482  ],\n",
              "       [0.79594782, 0.55370283, 0.24224499, 0.03460643],\n",
              "       [0.79837025, 0.55735281, 0.22595384, 0.03012718],\n",
              "       [0.81228363, 0.5361072 , 0.22743942, 0.03249135],\n",
              "       [0.76701103, 0.35063361, 0.51499312, 0.15340221],\n",
              "       [0.74549757, 0.37274878, 0.52417798, 0.17472599],\n",
              "       [0.75519285, 0.33928954, 0.53629637, 0.16417236],\n",
              "       [0.75384916, 0.31524601, 0.54825394, 0.17818253],\n",
              "       [0.7581754 , 0.32659863, 0.5365549 , 0.17496355],\n",
              "       [0.72232962, 0.35482858, 0.57026022, 0.16474184],\n",
              "       [0.72634846, 0.38046824, 0.54187901, 0.18446945],\n",
              "       [0.75916547, 0.37183615, 0.51127471, 0.15493173],\n",
              "       [0.76301853, 0.33526572, 0.53180079, 0.15029153],\n",
              "       [0.72460233, 0.37623583, 0.54345175, 0.19508524],\n",
              "       [0.76923077, 0.30769231, 0.53846154, 0.15384615],\n",
              "       [0.73923462, 0.37588201, 0.52623481, 0.187941  ],\n",
              "       [0.78892752, 0.28927343, 0.52595168, 0.13148792],\n",
              "       [0.73081412, 0.34743622, 0.56308629, 0.16772783],\n",
              "       [0.75911707, 0.3931142 , 0.48800383, 0.17622361],\n",
              "       [0.76945444, 0.35601624, 0.50531337, 0.16078153],\n",
              "       [0.70631892, 0.37838513, 0.5675777 , 0.18919257],\n",
              "       [0.75676497, 0.35228714, 0.53495455, 0.13047672],\n",
              "       [0.76444238, 0.27125375, 0.55483721, 0.18494574],\n",
              "       [0.76185188, 0.34011245, 0.53057542, 0.14964948],\n",
              "       [0.6985796 , 0.37889063, 0.56833595, 0.21312598],\n",
              "       [0.77011854, 0.35349703, 0.50499576, 0.16412362],\n",
              "       [0.74143307, 0.29421947, 0.57667016, 0.17653168],\n",
              "       [0.73659895, 0.33811099, 0.56754345, 0.14490471],\n",
              "       [0.76741698, 0.34773582, 0.51560829, 0.15588157],\n",
              "       [0.76785726, 0.34902603, 0.51190484, 0.16287881],\n",
              "       [0.76467269, 0.31486523, 0.53976896, 0.15743261],\n",
              "       [0.74088576, 0.33173989, 0.55289982, 0.18798594],\n",
              "       [0.73350949, 0.35452959, 0.55013212, 0.18337737],\n",
              "       [0.78667474, 0.35883409, 0.48304589, 0.13801311],\n",
              "       [0.76521855, 0.33391355, 0.52869645, 0.15304371],\n",
              "       [0.77242925, 0.33706004, 0.51963422, 0.14044168],\n",
              "       [0.76434981, 0.35581802, 0.51395936, 0.15814134],\n",
              "       [0.70779525, 0.31850786, 0.60162596, 0.1887454 ],\n",
              "       [0.69333409, 0.38518561, 0.57777841, 0.1925928 ],\n",
              "       [0.71524936, 0.40530797, 0.53643702, 0.19073316],\n",
              "       [0.75457341, 0.34913098, 0.52932761, 0.16893434],\n",
              "       [0.77530021, 0.28304611, 0.54147951, 0.15998258],\n",
              "       [0.72992443, 0.39103094, 0.53440896, 0.16944674],\n",
              "       [0.74714194, 0.33960997, 0.54337595, 0.17659719],\n",
              "       [0.72337118, 0.34195729, 0.57869695, 0.15782644],\n",
              "       [0.73260391, 0.36029701, 0.55245541, 0.1681386 ],\n",
              "       [0.76262994, 0.34186859, 0.52595168, 0.1577855 ],\n",
              "       [0.76986879, 0.35413965, 0.5081134 , 0.15397376],\n",
              "       [0.73544284, 0.35458851, 0.55158213, 0.1707278 ],\n",
              "       [0.73239618, 0.38547167, 0.53966034, 0.15418867],\n",
              "       [0.73446047, 0.37367287, 0.5411814 , 0.16750853],\n",
              "       [0.75728103, 0.3542121 , 0.52521104, 0.15878473],\n",
              "       [0.78258054, 0.38361791, 0.4603415 , 0.16879188],\n",
              "       [0.7431482 , 0.36505526, 0.5345452 , 0.16948994],\n",
              "       [0.65387747, 0.34250725, 0.62274045, 0.25947519],\n",
              "       [0.69052512, 0.32145135, 0.60718588, 0.22620651],\n",
              "       [0.71491405, 0.30207636, 0.59408351, 0.21145345],\n",
              "       [0.69276796, 0.31889319, 0.61579374, 0.1979337 ],\n",
              "       [0.68619022, 0.31670318, 0.61229281, 0.232249  ],\n",
              "       [0.70953708, 0.28008043, 0.61617694, 0.1960563 ],\n",
              "       [0.67054118, 0.34211284, 0.61580312, 0.23263673],\n",
              "       [0.71366557, 0.28351098, 0.61590317, 0.17597233],\n",
              "       [0.71414125, 0.26647062, 0.61821183, 0.19185884],\n",
              "       [0.69198788, 0.34599394, 0.58626751, 0.24027357],\n",
              "       [0.71562645, 0.3523084 , 0.56149152, 0.22019275],\n",
              "       [0.71576546, 0.30196356, 0.59274328, 0.21249287],\n",
              "       [0.71718148, 0.31640359, 0.58007326, 0.22148252],\n",
              "       [0.6925518 , 0.30375079, 0.60750157, 0.24300063],\n",
              "       [0.67767924, 0.32715549, 0.59589036, 0.28041899],\n",
              "       [0.69589887, 0.34794944, 0.57629125, 0.25008866],\n",
              "       [0.70610474, 0.3258945 , 0.59747324, 0.1955367 ],\n",
              "       [0.69299099, 0.34199555, 0.60299216, 0.19799743],\n",
              "       [0.70600618, 0.2383917 , 0.63265489, 0.21088496],\n",
              "       [0.72712585, 0.26661281, 0.60593821, 0.18178146],\n",
              "       [0.70558934, 0.32722984, 0.58287815, 0.23519645],\n",
              "       [0.68307923, 0.34153961, 0.59769433, 0.24395687],\n",
              "       [0.71486543, 0.25995106, 0.62202576, 0.18567933],\n",
              "       [0.73122464, 0.31338199, 0.56873028, 0.20892133],\n",
              "       [0.69595601, 0.3427843 , 0.59208198, 0.21813547],\n",
              "       [0.71529453, 0.31790868, 0.59607878, 0.17882363],\n",
              "       [0.72785195, 0.32870733, 0.56349829, 0.21131186],\n",
              "       [0.71171214, 0.35002236, 0.57170319, 0.21001342],\n",
              "       [0.69594002, 0.30447376, 0.60894751, 0.22835532],\n",
              "       [0.73089855, 0.30454106, 0.58877939, 0.1624219 ],\n",
              "       [0.72766159, 0.27533141, 0.59982915, 0.18683203],\n",
              "       [0.71578999, 0.34430405, 0.5798805 , 0.18121266],\n",
              "       [0.69417747, 0.30370264, 0.60740528, 0.2386235 ],\n",
              "       [0.72366005, 0.32162669, 0.58582004, 0.17230001],\n",
              "       [0.69385414, 0.29574111, 0.63698085, 0.15924521],\n",
              "       [0.73154399, 0.28501714, 0.57953485, 0.21851314],\n",
              "       [0.67017484, 0.36168166, 0.59571097, 0.2553047 ],\n",
              "       [0.69804799, 0.338117  , 0.59988499, 0.196326  ],\n",
              "       [0.71066905, 0.35533453, 0.56853524, 0.21320072],\n",
              "       [0.72415258, 0.32534391, 0.56672811, 0.22039426],\n",
              "       [0.69997037, 0.32386689, 0.58504986, 0.25073566],\n",
              "       [0.73337886, 0.32948905, 0.54206264, 0.24445962],\n",
              "       [0.69052512, 0.32145135, 0.60718588, 0.22620651],\n",
              "       [0.69193502, 0.32561648, 0.60035539, 0.23403685],\n",
              "       [0.68914871, 0.33943145, 0.58629069, 0.25714504],\n",
              "       [0.72155725, 0.32308533, 0.56001458, 0.24769876],\n",
              "       [0.72965359, 0.28954508, 0.57909015, 0.22005426],\n",
              "       [0.71653899, 0.3307103 , 0.57323119, 0.22047353],\n",
              "       [0.67467072, 0.36998072, 0.58761643, 0.25028107],\n",
              "       [0.69025916, 0.35097923, 0.5966647 , 0.21058754]])"
            ]
          },
          "metadata": {},
          "execution_count": 51
        }
      ]
    },
    {
      "cell_type": "code",
      "source": [
        "# Create train and test dataset\n",
        "from sklearn.model_selection import train_test_split\n",
        "t_size = 0.30\n",
        "# random_state: controls the shuffling proces\n",
        "x_train, x_test, y_train, y_test = train_test_split(X, y, test_size=t_size, random_state=0)\n",
        "# check the shapes\n",
        "x_train.shape, x_test.shape, y_train.shape, y_test.shape"
      ],
      "metadata": {
        "colab": {
          "base_uri": "https://localhost:8080/"
        },
        "id": "p23pkTJUpuY-",
        "outputId": "706aee85-3226-46a7-efd6-096120dffd7e"
      },
      "execution_count": 61,
      "outputs": [
        {
          "output_type": "execute_result",
          "data": {
            "text/plain": [
              "((105, 4), (45, 4), (105,), (45,))"
            ]
          },
          "metadata": {},
          "execution_count": 61
        }
      ]
    },
    {
      "cell_type": "code",
      "source": [
        "# See if datasets have same population\n",
        "np.unique(y_train, return_counts=True)"
      ],
      "metadata": {
        "colab": {
          "base_uri": "https://localhost:8080/"
        },
        "id": "8c4w7V6up8tY",
        "outputId": "5b241769-e99e-43e0-f8c4-2987c38b3177"
      },
      "execution_count": 60,
      "outputs": [
        {
          "output_type": "execute_result",
          "data": {
            "text/plain": [
              "(array([0, 1, 2]), array([34, 32, 39]))"
            ]
          },
          "metadata": {},
          "execution_count": 60
        }
      ]
    },
    {
      "cell_type": "code",
      "source": [
        "x_train, x_test, y_train, y_test = train_test_split(\n",
        "X, y, test_size=t_size, random_state=0, stratify=y)"
      ],
      "metadata": {
        "id": "vL816jz3qGMr"
      },
      "execution_count": 63,
      "outputs": []
    },
    {
      "cell_type": "code",
      "source": [
        "np.unique(y_train, return_counts=True)"
      ],
      "metadata": {
        "colab": {
          "base_uri": "https://localhost:8080/"
        },
        "id": "VxuzGyMzqU2r",
        "outputId": "495af3a7-cd80-41de-9ec1-1eda2d9077dc"
      },
      "execution_count": 64,
      "outputs": [
        {
          "output_type": "execute_result",
          "data": {
            "text/plain": [
              "(array([0, 1, 2]), array([35, 35, 35]))"
            ]
          },
          "metadata": {},
          "execution_count": 64
        }
      ]
    },
    {
      "cell_type": "code",
      "source": [
        "x_train.shape, x_test.shape, y_train.shape, y_test.shape"
      ],
      "metadata": {
        "colab": {
          "base_uri": "https://localhost:8080/"
        },
        "id": "teoigqRRqVRl",
        "outputId": "b0caaf7d-78ae-4017-8066-6fa99decfc15"
      },
      "execution_count": 65,
      "outputs": [
        {
          "output_type": "execute_result",
          "data": {
            "text/plain": [
              "((105, 4), (45, 4), (105,), (45,))"
            ]
          },
          "metadata": {},
          "execution_count": 65
        }
      ]
    },
    {
      "cell_type": "code",
      "source": [
        "np.unique(y_test, return_counts=True)"
      ],
      "metadata": {
        "colab": {
          "base_uri": "https://localhost:8080/"
        },
        "id": "zKoBZ5U3qXi3",
        "outputId": "ee366b02-20fb-4a22-8ab4-75e113d35de9"
      },
      "execution_count": 66,
      "outputs": [
        {
          "output_type": "execute_result",
          "data": {
            "text/plain": [
              "(array([0, 1, 2]), array([15, 15, 15]))"
            ]
          },
          "metadata": {},
          "execution_count": 66
        }
      ]
    },
    {
      "cell_type": "code",
      "source": [
        "# this is just the introdution\n",
        "from sklearn.neighbors import KNeighborsClassifier\n",
        "knn_classifier = KNeighborsClassifier(n_neighbors=5)\n",
        "knn_classifier.fit(x_train, y_train)\n",
        "knn_classifier.score(x_test, y_test) # to find score\n",
        "pred_test_knn = knn_classifier.predict(x_test)\n",
        "pred_test_knn"
      ],
      "metadata": {
        "colab": {
          "base_uri": "https://localhost:8080/"
        },
        "id": "KaUt_EjPqa4W",
        "outputId": "4a94d0e0-6a79-4e48-a09b-02fb6335c516"
      },
      "execution_count": 70,
      "outputs": [
        {
          "output_type": "execute_result",
          "data": {
            "text/plain": [
              "array([2, 2, 0, 0, 1, 0, 1, 2, 0, 1, 0, 2, 0, 2, 1, 2, 1, 1, 1, 0, 1, 2,\n",
              "       0, 1, 2, 2, 2, 2, 1, 2, 1, 0, 0, 1, 1, 2, 1, 0, 0, 1, 0, 2, 0, 0,\n",
              "       2])"
            ]
          },
          "metadata": {},
          "execution_count": 70
        }
      ]
    },
    {
      "cell_type": "code",
      "source": [
        "x_test[:,0]"
      ],
      "metadata": {
        "colab": {
          "base_uri": "https://localhost:8080/"
        },
        "id": "IFUcHZAeqcIp",
        "outputId": "d9c139ef-20bb-4d1b-ab4b-1cfcf6b63f5c"
      },
      "execution_count": 71,
      "outputs": [
        {
          "output_type": "execute_result",
          "data": {
            "text/plain": [
              "array([0.67017484, 0.69052512, 0.80779568, 0.76693897, 0.76701103,\n",
              "       0.80597792, 0.72337118, 0.69025916, 0.77729093, 0.72232962,\n",
              "       0.78591858, 0.71653899, 0.79594782, 0.73122464, 0.75676497,\n",
              "       0.69385414, 0.76444238, 0.76945444, 0.74549757, 0.80377277,\n",
              "       0.7581754 , 0.69276796, 0.776114  , 0.77242925, 0.73089855,\n",
              "       0.71491405, 0.6925518 , 0.65387747, 0.74714194, 0.71562645,\n",
              "       0.7431482 , 0.77964883, 0.78010936, 0.72992443, 0.75457341,\n",
              "       0.68307923, 0.71524936, 0.78523221, 0.81803119, 0.73923462,\n",
              "       0.82699754, 0.69198788, 0.80003025, 0.82307218, 0.72415258])"
            ]
          },
          "metadata": {},
          "execution_count": 71
        }
      ]
    },
    {
      "cell_type": "code",
      "source": [
        "x_test"
      ],
      "metadata": {
        "colab": {
          "base_uri": "https://localhost:8080/"
        },
        "id": "Dx8UgwEtqp7m",
        "outputId": "f5cadff3-c7c8-48c6-bdab-929b50b1b0b8"
      },
      "execution_count": 74,
      "outputs": [
        {
          "output_type": "execute_result",
          "data": {
            "text/plain": [
              "array([[0.67017484, 0.36168166, 0.59571097, 0.2553047 ],\n",
              "       [0.69052512, 0.32145135, 0.60718588, 0.22620651],\n",
              "       [0.80779568, 0.53853046, 0.23758697, 0.03167826],\n",
              "       [0.76693897, 0.57144472, 0.28572236, 0.06015208],\n",
              "       [0.76701103, 0.35063361, 0.51499312, 0.15340221],\n",
              "       [0.80597792, 0.52151512, 0.26865931, 0.07901744],\n",
              "       [0.72337118, 0.34195729, 0.57869695, 0.15782644],\n",
              "       [0.69025916, 0.35097923, 0.5966647 , 0.21058754],\n",
              "       [0.77729093, 0.57915795, 0.24385598, 0.030482  ],\n",
              "       [0.72232962, 0.35482858, 0.57026022, 0.16474184],\n",
              "       [0.78591858, 0.57017622, 0.23115252, 0.06164067],\n",
              "       [0.71653899, 0.3307103 , 0.57323119, 0.22047353],\n",
              "       [0.79594782, 0.55370283, 0.24224499, 0.03460643],\n",
              "       [0.73122464, 0.31338199, 0.56873028, 0.20892133],\n",
              "       [0.75676497, 0.35228714, 0.53495455, 0.13047672],\n",
              "       [0.69385414, 0.29574111, 0.63698085, 0.15924521],\n",
              "       [0.76444238, 0.27125375, 0.55483721, 0.18494574],\n",
              "       [0.76945444, 0.35601624, 0.50531337, 0.16078153],\n",
              "       [0.74549757, 0.37274878, 0.52417798, 0.17472599],\n",
              "       [0.80377277, 0.55160877, 0.22064351, 0.0315205 ],\n",
              "       [0.7581754 , 0.32659863, 0.5365549 , 0.17496355],\n",
              "       [0.69276796, 0.31889319, 0.61579374, 0.1979337 ],\n",
              "       [0.776114  , 0.54974742, 0.30721179, 0.03233808],\n",
              "       [0.77242925, 0.33706004, 0.51963422, 0.14044168],\n",
              "       [0.73089855, 0.30454106, 0.58877939, 0.1624219 ],\n",
              "       [0.71491405, 0.30207636, 0.59408351, 0.21145345],\n",
              "       [0.6925518 , 0.30375079, 0.60750157, 0.24300063],\n",
              "       [0.65387747, 0.34250725, 0.62274045, 0.25947519],\n",
              "       [0.74714194, 0.33960997, 0.54337595, 0.17659719],\n",
              "       [0.71562645, 0.3523084 , 0.56149152, 0.22019275],\n",
              "       [0.7431482 , 0.36505526, 0.5345452 , 0.16948994],\n",
              "       [0.77964883, 0.58091482, 0.22930848, 0.0458617 ],\n",
              "       [0.78010936, 0.57660257, 0.23742459, 0.0508767 ],\n",
              "       [0.72992443, 0.39103094, 0.53440896, 0.16944674],\n",
              "       [0.75457341, 0.34913098, 0.52932761, 0.16893434],\n",
              "       [0.68307923, 0.34153961, 0.59769433, 0.24395687],\n",
              "       [0.71524936, 0.40530797, 0.53643702, 0.19073316],\n",
              "       [0.78523221, 0.5769053 , 0.22435206, 0.01602515],\n",
              "       [0.81803119, 0.51752994, 0.25041771, 0.01669451],\n",
              "       [0.73923462, 0.37588201, 0.52623481, 0.187941  ],\n",
              "       [0.82699754, 0.52627116, 0.19547215, 0.03007264],\n",
              "       [0.69198788, 0.34599394, 0.58626751, 0.24027357],\n",
              "       [0.80003025, 0.53915082, 0.26087943, 0.03478392],\n",
              "       [0.82307218, 0.51442011, 0.24006272, 0.01714734],\n",
              "       [0.72415258, 0.32534391, 0.56672811, 0.22039426]])"
            ]
          },
          "metadata": {},
          "execution_count": 74
        }
      ]
    },
    {
      "cell_type": "code",
      "source": [
        "from sklearn.metrics import confusion_matrix\n",
        "cm = confusion_matrix(y_test,pred_test_knn)\n",
        "sns.heatmap(cm,annot=True)"
      ],
      "metadata": {
        "colab": {
          "base_uri": "https://localhost:8080/",
          "height": 447
        },
        "id": "BWVgTIpLquO8",
        "outputId": "7253a2d1-4248-42ce-e887-90d114673b58"
      },
      "execution_count": 75,
      "outputs": [
        {
          "output_type": "execute_result",
          "data": {
            "text/plain": [
              "<Axes: >"
            ]
          },
          "metadata": {},
          "execution_count": 75
        },
        {
          "output_type": "display_data",
          "data": {
            "text/plain": [
              "<Figure size 640x480 with 2 Axes>"
            ],
            "image/png": "[encoded data removed]"
          },
          "metadata": {}
        }
      ]
    },
    {
      "cell_type": "markdown",
      "source": [
        "#Confusion Matrix\n",
        "A confusion matrix is a table or matrix used in machine learning and statistics to evaluate the performance of a classification algorithm."
      ],
      "metadata": {
        "id": "GC4A2qYpq-ap"
      }
    },
    {
      "cell_type": "code",
      "source": [
        "pred_test_knn = knn_classifier.predict_proba(x_test)\n",
        "pred_test_knn"
      ],
      "metadata": {
        "colab": {
          "base_uri": "https://localhost:8080/"
        },
        "id": "FeayiHDuquwL",
        "outputId": "91e09e81-9f2c-496f-ae47-6d5a5dba2ed2"
      },
      "execution_count": 76,
      "outputs": [
        {
          "output_type": "execute_result",
          "data": {
            "text/plain": [
              "array([[0. , 0. , 1. ],\n",
              "       [0. , 0. , 1. ],\n",
              "       [1. , 0. , 0. ],\n",
              "       [1. , 0. , 0. ],\n",
              "       [0. , 1. , 0. ],\n",
              "       [1. , 0. , 0. ],\n",
              "       [0. , 0.6, 0.4],\n",
              "       [0. , 0. , 1. ],\n",
              "       [1. , 0. , 0. ],\n",
              "       [0. , 0.8, 0.2],\n",
              "       [1. , 0. , 0. ],\n",
              "       [0. , 0. , 1. ],\n",
              "       [1. , 0. , 0. ],\n",
              "       [0. , 0. , 1. ],\n",
              "       [0. , 1. , 0. ],\n",
              "       [0. , 0.2, 0.8],\n",
              "       [0. , 1. , 0. ],\n",
              "       [0. , 1. , 0. ],\n",
              "       [0. , 1. , 0. ],\n",
              "       [1. , 0. , 0. ],\n",
              "       [0. , 1. , 0. ],\n",
              "       [0. , 0.2, 0.8],\n",
              "       [1. , 0. , 0. ],\n",
              "       [0. , 1. , 0. ],\n",
              "       [0. , 0.4, 0.6],\n",
              "       [0. , 0. , 1. ],\n",
              "       [0. , 0. , 1. ],\n",
              "       [0. , 0. , 1. ],\n",
              "       [0. , 1. , 0. ],\n",
              "       [0. , 0.2, 0.8],\n",
              "       [0. , 1. , 0. ],\n",
              "       [1. , 0. , 0. ],\n",
              "       [1. , 0. , 0. ],\n",
              "       [0. , 1. , 0. ],\n",
              "       [0. , 1. , 0. ],\n",
              "       [0. , 0. , 1. ],\n",
              "       [0. , 1. , 0. ],\n",
              "       [1. , 0. , 0. ],\n",
              "       [1. , 0. , 0. ],\n",
              "       [0. , 1. , 0. ],\n",
              "       [1. , 0. , 0. ],\n",
              "       [0. , 0. , 1. ],\n",
              "       [1. , 0. , 0. ],\n",
              "       [1. , 0. , 0. ],\n",
              "       [0. , 0. , 1. ]])"
            ]
          },
          "metadata": {},
          "execution_count": 76
        }
      ]
    },
    {
      "cell_type": "markdown",
      "source": [
        "The main purpose of cross validation is to prevent overfitting"
      ],
      "metadata": {
        "id": "nvseOTS7r74F"
      }
    },
    {
      "cell_type": "code",
      "source": [
        "from sklearn.neighbors import KNeighborsClassifier\n",
        "from sklearn.model_selection import GridSearchCV\n",
        "\n",
        "\n",
        "def KNN():\n",
        "    knn_grid = {\n",
        "        \"n_neighbors\": list(range(1, 10, 1)),\n",
        "        \"weights\": [\"distance\"],\n",
        "        \"metric\": [\"euclidean\"],\n",
        "    }\n",
        "\n",
        "    knn = KNeighborsClassifier()\n",
        "    # grid = GridSearchCV(knn, param_grid, cv=10, scoring='accuracy', return_train_score=False,verbose=1)\n",
        "\n",
        "    return GridSearchCV(\n",
        "        estimator = knn,\n",
        "        param_grid = knn_grid,\n",
        "        cv=10,\n",
        "        n_jobs=1,\n",
        "        scoring=\"accuracy\",\n",
        "    )\n",
        "model = KNN()\n",
        "model.fit(x_train, y_train)"
      ],
      "metadata": {
        "colab": {
          "base_uri": "https://localhost:8080/",
          "height": 116
        },
        "id": "tCtQBeT5raR6",
        "outputId": "10495bdd-b555-4384-e23d-d9ed9740ec8d"
      },
      "execution_count": 81,
      "outputs": [
        {
          "output_type": "execute_result",
          "data": {
            "text/plain": [
              "GridSearchCV(cv=10, estimator=KNeighborsClassifier(), n_jobs=1,\n",
              "             param_grid={'metric': ['euclidean'],\n",
              "                         'n_neighbors': [1, 2, 3, 4, 5, 6, 7, 8, 9],\n",
              "                         'weights': ['distance']},\n",
              "             scoring='accuracy')"
            ],
            "text/html": [
              "<style>#sk-container-id-1 {color: black;background-color: white;}#sk-container-id-1 pre{padding: 0;}#sk-container-id-1 div.sk-toggleable {background-color: white;}#sk-container-id-1 label.sk-toggleable__label {cursor: pointer;display: block;width: 100%;margin-bottom: 0;padding: 0.3em;box-sizing: border-box;text-align: center;}#sk-container-id-1 label.sk-toggleable__label-arrow:before {content: \"▸\";float: left;margin-right: 0.25em;color: #696969;}#sk-container-id-1 label.sk-toggleable__label-arrow:hover:before {color: black;}#sk-container-id-1 div.sk-estimator:hover label.sk-toggleable__label-arrow:before {color: black;}#sk-container-id-1 div.sk-toggleable__content {max-height: 0;max-width: 0;overflow: hidden;text-align: left;background-color: #f0f8ff;}#sk-container-id-1 div.sk-toggleable__content pre {margin: 0.2em;color: black;border-radius: 0.25em;background-color: #f0f8ff;}#sk-container-id-1 input.sk-toggleable__control:checked~div.sk-toggleable__content {max-height: 200px;max-width: 100%;overflow: auto;}#sk-container-id-1 input.sk-toggleable__control:checked~label.sk-toggleable__label-arrow:before {content: \"▾\";}#sk-container-id-1 div.sk-estimator input.sk-toggleable__control:checked~label.sk-toggleable__label {background-color: #d4ebff;}#sk-container-id-1 div.sk-label input.sk-toggleable__control:checked~label.sk-toggleable__label {background-color: #d4ebff;}#sk-container-id-1 input.sk-hidden--visually {border: 0;clip: rect(1px 1px 1px 1px);clip: rect(1px, 1px, 1px, 1px);height: 1px;margin: -1px;overflow: hidden;padding: 0;position: absolute;width: 1px;}#sk-container-id-1 div.sk-estimator {font-family: monospace;background-color: #f0f8ff;border: 1px dotted black;border-radius: 0.25em;box-sizing: border-box;margin-bottom: 0.5em;}#sk-container-id-1 div.sk-estimator:hover {background-color: #d4ebff;}#sk-container-id-1 div.sk-parallel-item::after {content: \"\";width: 100%;border-bottom: 1px solid gray;flex-grow: 1;}#sk-container-id-1 div.sk-label:hover label.sk-toggleable__label {background-color: #d4ebff;}#sk-container-id-1 div.sk-serial::before {content: \"\";position: absolute;border-left: 1px solid gray;box-sizing: border-box;top: 0;bottom: 0;left: 50%;z-index: 0;}#sk-container-id-1 div.sk-serial {display: flex;flex-direction: column;align-items: center;background-color: white;padding-right: 0.2em;padding-left: 0.2em;position: relative;}#sk-container-id-1 div.sk-item {position: relative;z-index: 1;}#sk-container-id-1 div.sk-parallel {display: flex;align-items: stretch;justify-content: center;background-color: white;position: relative;}#sk-container-id-1 div.sk-item::before, #sk-container-id-1 div.sk-parallel-item::before {content: \"\";position: absolute;border-left: 1px solid gray;box-sizing: border-box;top: 0;bottom: 0;left: 50%;z-index: -1;}#sk-container-id-1 div.sk-parallel-item {display: flex;flex-direction: column;z-index: 1;position: relative;background-color: white;}#sk-container-id-1 div.sk-parallel-item:first-child::after {align-self: flex-end;width: 50%;}#sk-container-id-1 div.sk-parallel-item:last-child::after {align-self: flex-start;width: 50%;}#sk-container-id-1 div.sk-parallel-item:only-child::after {width: 0;}#sk-container-id-1 div.sk-dashed-wrapped {border: 1px dashed gray;margin: 0 0.4em 0.5em 0.4em;box-sizing: border-box;padding-bottom: 0.4em;background-color: white;}#sk-container-id-1 div.sk-label label {font-family: monospace;font-weight: bold;display: inline-block;line-height: 1.2em;}#sk-container-id-1 div.sk-label-container {text-align: center;}#sk-container-id-1 div.sk-container {/* jupyter's `normalize.less` sets `[hidden] { display: none; }` but bootstrap.min.css set `[hidden] { display: none !important; }` so we also need the `!important` here to be able to override the default hidden behavior on the sphinx rendered scikit-learn.org. See: https://github.com/scikit-learn/scikit-learn/issues/21755 */display: inline-block !important;position: relative;}#sk-container-id-1 div.sk-text-repr-fallback {display: none;}</style><div id=\"sk-container-id-1\" class=\"sk-top-container\"><div class=\"sk-text-repr-fallback\"><pre>GridSearchCV(cv=10, estimator=KNeighborsClassifier(), n_jobs=1,\n",
              "             param_grid={&#x27;metric&#x27;: [&#x27;euclidean&#x27;],\n",
              "                         &#x27;n_neighbors&#x27;: [1, 2, 3, 4, 5, 6, 7, 8, 9],\n",
              "                         &#x27;weights&#x27;: [&#x27;distance&#x27;]},\n",
              "             scoring=&#x27;accuracy&#x27;)</pre><b>In a Jupyter environment, please rerun this cell to show the HTML representation or trust the notebook. <br />On GitHub, the HTML representation is unable to render, please try loading this page with nbviewer.org.</b></div><div class=\"sk-container\" hidden><div class=\"sk-item sk-dashed-wrapped\"><div class=\"sk-label-container\"><div class=\"sk-label sk-toggleable\"><input class=\"sk-toggleable__control sk-hidden--visually\" id=\"sk-estimator-id-1\" type=\"checkbox\" ><label for=\"sk-estimator-id-1\" class=\"sk-toggleable__label sk-toggleable__label-arrow\">GridSearchCV</label><div class=\"sk-toggleable__content\"><pre>GridSearchCV(cv=10, estimator=KNeighborsClassifier(), n_jobs=1,\n",
              "             param_grid={&#x27;metric&#x27;: [&#x27;euclidean&#x27;],\n",
              "                         &#x27;n_neighbors&#x27;: [1, 2, 3, 4, 5, 6, 7, 8, 9],\n",
              "                         &#x27;weights&#x27;: [&#x27;distance&#x27;]},\n",
              "             scoring=&#x27;accuracy&#x27;)</pre></div></div></div><div class=\"sk-parallel\"><div class=\"sk-parallel-item\"><div class=\"sk-item\"><div class=\"sk-label-container\"><div class=\"sk-label sk-toggleable\"><input class=\"sk-toggleable__control sk-hidden--visually\" id=\"sk-estimator-id-2\" type=\"checkbox\" ><label for=\"sk-estimator-id-2\" class=\"sk-toggleable__label sk-toggleable__label-arrow\">estimator: KNeighborsClassifier</label><div class=\"sk-toggleable__content\"><pre>KNeighborsClassifier()</pre></div></div></div><div class=\"sk-serial\"><div class=\"sk-item\"><div class=\"sk-estimator sk-toggleable\"><input class=\"sk-toggleable__control sk-hidden--visually\" id=\"sk-estimator-id-3\" type=\"checkbox\" ><label for=\"sk-estimator-id-3\" class=\"sk-toggleable__label sk-toggleable__label-arrow\">KNeighborsClassifier</label><div class=\"sk-toggleable__content\"><pre>KNeighborsClassifier()</pre></div></div></div></div></div></div></div></div></div></div>"
            ]
          },
          "metadata": {},
          "execution_count": 81
        }
      ]
    },
    {
      "cell_type": "markdown",
      "source": [
        "The purpose of the code you provided is to perform hyperparameter tuning for a K-Nearest Neighbors (KNN) classifier using grid search and cross-validation. Here's a breakdown of its purpose:\n",
        "\n",
        "1. **Hyperparameter Tuning**: The code aims to find the optimal hyperparameters for a KNN classifier. Hyperparameters are configuration settings for the model that are not learned from the data but need to be set prior to training. In this case, the key hyperparameters being tuned are:\n",
        "   - `n_neighbors`: The number of neighbors to consider when making predictions.\n",
        "   - `weights`: The weighting scheme used to assign influence to neighboring data points (in this code, it's set to \"distance\" meaning closer neighbors have more influence).\n",
        "   - `metric`: The distance metric used to measure the similarity between data points (in this code, it's set to \"euclidean\").\n",
        "\n",
        "2. **Grid Search**: Grid search involves systematically trying different combinations of hyperparameters from a predefined grid or set of values. The code specifies a grid of hyperparameter values to explore for `n_neighbors`, `weights`, and `metric`. It will train and evaluate the KNN classifier with all possible combinations of these hyperparameters.\n",
        "\n",
        "3. **Cross-Validation**: Cross-validation is a technique used to assess the model's performance while guarding against overfitting. The code uses 10-fold cross-validation (`cv=10`), which means the dataset is split into 10 subsets, and the model is trained and evaluated 10 times. Each time, a different subset is used as the validation set, and the others are used for training. Cross-validation helps estimate how well the model will perform on unseen data.\n",
        "\n",
        "4. **Model Selection**: The code creates an instance of the KNN classifier and uses the `GridSearchCV` object to find the combination of hyperparameters that results in the highest accuracy score on the cross-validated data. Essentially, it helps choose the best KNN model configuration for the given dataset.\n",
        "\n",
        "In summary, the purpose of this code is to automate the process of finding the best hyperparameters for a KNN classifier, making the model more effective in making predictions on a specific dataset. This is a common practice in machine learning to optimize model performance and generalize well to new, unseen data."
      ],
      "metadata": {
        "id": "UFG2XpkWsQ_U"
      }
    },
    {
      "cell_type": "code",
      "source": [
        "model.best_estimator_"
      ],
      "metadata": {
        "colab": {
          "base_uri": "https://localhost:8080/",
          "height": 74
        },
        "id": "BDR2a79BreC5",
        "outputId": "01324e2b-6e73-4283-d484-6de5fa921216"
      },
      "execution_count": 82,
      "outputs": [
        {
          "output_type": "execute_result",
          "data": {
            "text/plain": [
              "KNeighborsClassifier(metric='euclidean', n_neighbors=4, weights='distance')"
            ],
            "text/html": [
              "<style>#sk-container-id-2 {color: black;background-color: white;}#sk-container-id-2 pre{padding: 0;}#sk-container-id-2 div.sk-toggleable {background-color: white;}#sk-container-id-2 label.sk-toggleable__label {cursor: pointer;display: block;width: 100%;margin-bottom: 0;padding: 0.3em;box-sizing: border-box;text-align: center;}#sk-container-id-2 label.sk-toggleable__label-arrow:before {content: \"▸\";float: left;margin-right: 0.25em;color: #696969;}#sk-container-id-2 label.sk-toggleable__label-arrow:hover:before {color: black;}#sk-container-id-2 div.sk-estimator:hover label.sk-toggleable__label-arrow:before {color: black;}#sk-container-id-2 div.sk-toggleable__content {max-height: 0;max-width: 0;overflow: hidden;text-align: left;background-color: #f0f8ff;}#sk-container-id-2 div.sk-toggleable__content pre {margin: 0.2em;color: black;border-radius: 0.25em;background-color: #f0f8ff;}#sk-container-id-2 input.sk-toggleable__control:checked~div.sk-toggleable__content {max-height: 200px;max-width: 100%;overflow: auto;}#sk-container-id-2 input.sk-toggleable__control:checked~label.sk-toggleable__label-arrow:before {content: \"▾\";}#sk-container-id-2 div.sk-estimator input.sk-toggleable__control:checked~label.sk-toggleable__label {background-color: #d4ebff;}#sk-container-id-2 div.sk-label input.sk-toggleable__control:checked~label.sk-toggleable__label {background-color: #d4ebff;}#sk-container-id-2 input.sk-hidden--visually {border: 0;clip: rect(1px 1px 1px 1px);clip: rect(1px, 1px, 1px, 1px);height: 1px;margin: -1px;overflow: hidden;padding: 0;position: absolute;width: 1px;}#sk-container-id-2 div.sk-estimator {font-family: monospace;background-color: #f0f8ff;border: 1px dotted black;border-radius: 0.25em;box-sizing: border-box;margin-bottom: 0.5em;}#sk-container-id-2 div.sk-estimator:hover {background-color: #d4ebff;}#sk-container-id-2 div.sk-parallel-item::after {content: \"\";width: 100%;border-bottom: 1px solid gray;flex-grow: 1;}#sk-container-id-2 div.sk-label:hover label.sk-toggleable__label {background-color: #d4ebff;}#sk-container-id-2 div.sk-serial::before {content: \"\";position: absolute;border-left: 1px solid gray;box-sizing: border-box;top: 0;bottom: 0;left: 50%;z-index: 0;}#sk-container-id-2 div.sk-serial {display: flex;flex-direction: column;align-items: center;background-color: white;padding-right: 0.2em;padding-left: 0.2em;position: relative;}#sk-container-id-2 div.sk-item {position: relative;z-index: 1;}#sk-container-id-2 div.sk-parallel {display: flex;align-items: stretch;justify-content: center;background-color: white;position: relative;}#sk-container-id-2 div.sk-item::before, #sk-container-id-2 div.sk-parallel-item::before {content: \"\";position: absolute;border-left: 1px solid gray;box-sizing: border-box;top: 0;bottom: 0;left: 50%;z-index: -1;}#sk-container-id-2 div.sk-parallel-item {display: flex;flex-direction: column;z-index: 1;position: relative;background-color: white;}#sk-container-id-2 div.sk-parallel-item:first-child::after {align-self: flex-end;width: 50%;}#sk-container-id-2 div.sk-parallel-item:last-child::after {align-self: flex-start;width: 50%;}#sk-container-id-2 div.sk-parallel-item:only-child::after {width: 0;}#sk-container-id-2 div.sk-dashed-wrapped {border: 1px dashed gray;margin: 0 0.4em 0.5em 0.4em;box-sizing: border-box;padding-bottom: 0.4em;background-color: white;}#sk-container-id-2 div.sk-label label {font-family: monospace;font-weight: bold;display: inline-block;line-height: 1.2em;}#sk-container-id-2 div.sk-label-container {text-align: center;}#sk-container-id-2 div.sk-container {/* jupyter's `normalize.less` sets `[hidden] { display: none; }` but bootstrap.min.css set `[hidden] { display: none !important; }` so we also need the `!important` here to be able to override the default hidden behavior on the sphinx rendered scikit-learn.org. See: https://github.com/scikit-learn/scikit-learn/issues/21755 */display: inline-block !important;position: relative;}#sk-container-id-2 div.sk-text-repr-fallback {display: none;}</style><div id=\"sk-container-id-2\" class=\"sk-top-container\"><div class=\"sk-text-repr-fallback\"><pre>KNeighborsClassifier(metric=&#x27;euclidean&#x27;, n_neighbors=4, weights=&#x27;distance&#x27;)</pre><b>In a Jupyter environment, please rerun this cell to show the HTML representation or trust the notebook. <br />On GitHub, the HTML representation is unable to render, please try loading this page with nbviewer.org.</b></div><div class=\"sk-container\" hidden><div class=\"sk-item\"><div class=\"sk-estimator sk-toggleable\"><input class=\"sk-toggleable__control sk-hidden--visually\" id=\"sk-estimator-id-4\" type=\"checkbox\" checked><label for=\"sk-estimator-id-4\" class=\"sk-toggleable__label sk-toggleable__label-arrow\">KNeighborsClassifier</label><div class=\"sk-toggleable__content\"><pre>KNeighborsClassifier(metric=&#x27;euclidean&#x27;, n_neighbors=4, weights=&#x27;distance&#x27;)</pre></div></div></div></div></div>"
            ]
          },
          "metadata": {},
          "execution_count": 82
        }
      ]
    },
    {
      "cell_type": "code",
      "source": [
        "model.best_score_"
      ],
      "metadata": {
        "colab": {
          "base_uri": "https://localhost:8080/"
        },
        "id": "1CkhttbOrftD",
        "outputId": "05238f0e-6654-481a-9ac5-3982fd2226eb"
      },
      "execution_count": 83,
      "outputs": [
        {
          "output_type": "execute_result",
          "data": {
            "text/plain": [
              "0.9809090909090911"
            ]
          },
          "metadata": {},
          "execution_count": 83
        }
      ]
    },
    {
      "cell_type": "code",
      "source": [
        "model.best_params_"
      ],
      "metadata": {
        "colab": {
          "base_uri": "https://localhost:8080/"
        },
        "id": "g_30VOwCrhJj",
        "outputId": "2efba142-7c72-4bc3-b907-ae057dc3934d"
      },
      "execution_count": 84,
      "outputs": [
        {
          "output_type": "execute_result",
          "data": {
            "text/plain": [
              "{'metric': 'euclidean', 'n_neighbors': 4, 'weights': 'distance'}"
            ]
          },
          "metadata": {},
          "execution_count": 84
        }
      ]
    },
    {
      "cell_type": "code",
      "source": [
        "pred_test_knn = model.best_estimator_.predict(x_test)\n",
        "pred_test_knn\n",
        "from sklearn.metrics import confusion_matrix\n",
        "cm = confusion_matrix(y_test,pred_test_knn)\n",
        "sns.heatmap(cm,annot=True)"
      ],
      "metadata": {
        "colab": {
          "base_uri": "https://localhost:8080/",
          "height": 447
        },
        "id": "r2fAGhOUrE-l",
        "outputId": "aa3dc817-4035-4437-9f2f-a26eb605d86c"
      },
      "execution_count": 85,
      "outputs": [
        {
          "output_type": "execute_result",
          "data": {
            "text/plain": [
              "<Axes: >"
            ]
          },
          "metadata": {},
          "execution_count": 85
        },
        {
          "output_type": "display_data",
          "data": {
            "text/plain": [
              "<Figure size 640x480 with 2 Axes>"
            ],
            "image/png": "[encoded data removed]"
          },
          "metadata": {}
        }
      ]
    },
    {
      "cell_type": "markdown",
      "source": [
        "Advantages\n",
        "\n",
        "1) Easy to implement\n",
        "\n",
        "2) Few hyperparameters\n",
        "\n",
        "Disadvantages\n",
        "\n",
        "1) Does not scale well: Since KNN is a lazy algorithm\n",
        "\n",
        "2) Prone to overfitting"
      ],
      "metadata": {
        "id": "ngf482o4sDks"
      }
    },
    {
      "cell_type": "code",
      "source": [
        "# Practice\n",
        "# 1) Select breast_cancer datasets in sklearn\n",
        "# 2) create features and labels\n",
        "# 3) divide the dataset in this way: 75% for training and 25% for testing. make sure the number of labels are identical\n",
        "# 4) train simple KNN\n",
        "# 5) print test accuracy\n",
        "# 6) plot confusion matrix\n",
        "# 7) print classification report"
      ],
      "metadata": {
        "id": "dVCQZtXDrQbx"
      },
      "execution_count": 86,
      "outputs": []
    },
    {
      "cell_type": "code",
      "source": [
        "# 1\n",
        "from sklearn.datasets import load_breast_cancer\n",
        "lin = load_breast_cancer()"
      ],
      "metadata": {
        "id": "zHJPnZrSsgju"
      },
      "execution_count": 92,
      "outputs": []
    },
    {
      "cell_type": "code",
      "source": [
        "# 2\n",
        "X = lin.data\n",
        "y = lin.target"
      ],
      "metadata": {
        "id": "UXQ5E3hKsmlb"
      },
      "execution_count": 93,
      "outputs": []
    },
    {
      "cell_type": "code",
      "source": [
        "cov_matrix = np.cov(X.T)\n",
        "\n",
        "print(\"Covariance matrix:\")\n",
        "print(cov_matrix)"
      ],
      "metadata": {
        "colab": {
          "base_uri": "https://localhost:8080/"
        },
        "id": "WjDTbIsYszH0",
        "outputId": "81651a28-ac5a-407f-ae95-2267870ed780"
      },
      "execution_count": 97,
      "outputs": [
        {
          "output_type": "stream",
          "name": "stdout",
          "text": [
            "Covariance matrix:\n",
            "[[ 1.24189201e+01  4.90758156e+00  8.54471417e+01  1.22448341e+03\n",
            "   8.45445983e-03  9.41970568e-02  1.90127582e-01  1.12475116e-01\n",
            "   1.42731729e-02 -7.75370629e-03  6.63650325e-01 -1.89188600e-01\n",
            "   4.80354973e+00  1.17968162e+02 -2.35533633e-03  1.30005142e-02\n",
            "   2.06588280e-02  8.17956306e-03 -3.03898170e-03 -3.97624858e-04\n",
            "   1.65137495e+01  6.43310002e+00  1.14288570e+02  1.88822722e+03\n",
            "   9.62462515e-03  2.29249204e-01  3.87386440e-01  1.72392739e-01\n",
            "   3.57457580e-02  4.49735060e-04]\n",
            " [ 4.90758156e+00  1.84989087e+01  3.44397592e+01  4.85993787e+02\n",
            "  -1.41477877e-03  5.37668058e-02  1.03692344e-01  4.89769268e-02\n",
            "   8.41887566e-03 -2.32115824e-03  3.29037393e-01  9.16695072e-01\n",
            "   2.44944877e+00  5.08408652e+01  8.54099045e-05  1.47865987e-02\n",
            "   1.86039300e-02  4.34837964e-03  3.24506954e-04  6.19772637e-04\n",
            "   7.32926700e+00  2.41101485e+01  5.17459332e+01  8.41283832e+02\n",
            "   7.61106975e-03  1.88010026e-01  2.70110082e-01  8.34908538e-02\n",
            "   2.79419949e-02  9.26012881e-03]\n",
            " [ 8.54471417e+01  3.44397592e+01  5.90440480e+02  8.43577235e+03\n",
            "   7.08360652e-02  7.14714125e-01  1.38723362e+00  8.02360375e-01\n",
            "   1.21921583e-01 -4.48588794e-02  4.66140102e+00 -1.16298834e+00\n",
            "   3.40530278e+01  8.23492755e+02 -1.47881764e-02  1.09111241e-01\n",
            "   1.67296235e-01  6.10547010e-02 -1.63964262e-02 -3.55136526e-04\n",
            "   1.13858063e+02  4.52581133e+01  7.92328208e+02  1.30261484e+04\n",
            "   8.35255275e-02  1.74247791e+00  2.85850554e+00  1.23184809e+00\n",
            "   2.84299746e-01  2.23905222e-02]\n",
            " [ 1.22448341e+03  4.85993787e+02  8.43577235e+03  1.23843554e+05\n",
            "   8.76178126e-01  9.26493079e+00  1.92449238e+01  1.12419582e+01\n",
            "   1.45959589e+00 -7.03426366e-01  7.14909447e+01 -1.28671677e+01\n",
            "   5.17009995e+02  1.28085176e+04 -1.76220977e-01  1.33972528e+00\n",
            "   2.20595229e+00  8.08460183e-01 -2.10896413e-01 -1.85185365e-02\n",
            "   1.63752134e+03  6.21824934e+02  1.13417898e+04  1.92192558e+05\n",
            "   9.92513546e-01  2.16166024e+01  3.76344154e+01  1.67017894e+01\n",
            "   3.12580933e+00  2.37562255e-02]\n",
            " [ 8.45445983e-03 -1.41477877e-03  7.08360652e-02  8.76178126e-01\n",
            "   1.97799700e-04  4.89573915e-04  5.85242774e-04  3.02167060e-04\n",
            "   2.15054513e-04  5.80685868e-05  1.17577046e-03  5.30728260e-04\n",
            "   8.41955814e-03  1.57742108e-01  1.40354828e-05  8.03299928e-05\n",
            "   1.05454056e-04  3.30349152e-05  2.33418901e-05  1.05543329e-05\n",
            "   1.44869117e-02  3.11810959e-03  1.12879473e-01  1.65529930e+00\n",
            "   2.58604266e-04  1.04547843e-03  1.27612364e-03  4.65056762e-04\n",
            "   3.43093408e-04  1.26834336e-04]\n",
            " [ 9.41970568e-02  5.37668058e-02  7.14714125e-01  9.26493079e+00\n",
            "   4.89573915e-04  2.78918740e-03  3.71813492e-03  1.70323279e-03\n",
            "   8.72518055e-04  2.10813102e-04  7.28582209e-03  1.34613491e-03\n",
            "   5.86119478e-02  1.09470847e+00  2.14545745e-05  6.98668545e-04\n",
            "   9.09523186e-04  2.09293726e-04  1.00400852e-04  7.08958339e-05\n",
            "   1.36642905e-01  8.05441202e-02  1.04741276e+00  1.53234364e+01\n",
            "   6.81954177e-04  7.19433104e-03  8.99373999e-03  2.83126752e-03\n",
            "   1.66709974e-03  6.55670173e-04]\n",
            " [ 1.90127582e-01  1.03692344e-01  1.38723362e+00  1.92449238e+01\n",
            "   5.85242774e-04  3.71813492e-03  6.35524790e-03  2.85018988e-03\n",
            "   1.09418750e-03  1.89558774e-04  1.39701630e-02  3.35187749e-03\n",
            "   1.06443014e-01  2.23911946e+00  2.35922336e-05  9.56914602e-04\n",
            "   1.66349126e-03  3.36091422e-04  1.17306921e-04  9.47774191e-05\n",
            "   2.65180994e-01  1.46934203e-01  1.95434992e+00  3.06824051e+01\n",
            "   8.16944485e-04  9.46943910e-03  1.47039422e-02  4.51347883e-03\n",
            "   2.01950274e-03  7.41417054e-04]\n",
            " [ 1.12475116e-01  4.89769268e-02  8.02360375e-01  1.12419582e+01\n",
            "   3.02167060e-04  1.70323279e-03  2.85018988e-03  1.50566077e-03\n",
            "   4.91982571e-04  4.57290472e-05  7.51138126e-03  4.59781771e-04\n",
            "   5.57531179e-02  1.21850147e+00  3.22178293e-06  3.40790075e-04\n",
            "   5.14398590e-04  1.47397967e-04  3.05845975e-05  2.64474321e-05\n",
            "   1.55720694e-01  6.98190238e-02  1.11601611e+00  1.78868809e+01\n",
            "   4.01122552e-04  4.07487369e-03  6.09083615e-03  2.32144382e-03\n",
            "   9.02024075e-04  2.58368250e-04]\n",
            " [ 1.42731729e-02  8.41887566e-03  1.21921583e-01  1.45959589e+00\n",
            "   2.15054513e-04  8.72518055e-04  1.09418750e-03  4.91982571e-04\n",
            "   7.51542821e-04  9.28910636e-05  2.30638906e-03  1.93655007e-03\n",
            "   1.73983505e-02  2.79313983e-01  1.54187557e-05  2.07009285e-04\n",
            "   2.83533849e-04  6.65278822e-05  1.01781812e-04  2.40678115e-05\n",
            "   2.46088984e-02  1.52742091e-02  2.01895786e-01  2.76572509e+00\n",
            "   2.67070680e-04  2.04103789e-03  2.48057393e-03  7.75396600e-04\n",
            "   1.18694106e-03  2.17074597e-04]\n",
            " [-7.75370629e-03 -2.32115824e-03 -4.48588794e-02 -7.03426366e-01\n",
            "   5.80685868e-05  2.10813102e-04  1.89558774e-04  4.57290472e-05\n",
            "   9.28910636e-05  4.98487228e-05  2.17320416e-07  6.39430966e-04\n",
            "   5.68573335e-04 -2.89611509e-02  8.52118998e-06  7.07847676e-05\n",
            "   9.51878806e-05  1.48641058e-05  2.01358675e-05  1.28558262e-05\n",
            "  -8.65707995e-03 -2.22481721e-03 -4.86713328e-02 -9.32024040e-01\n",
            "   8.13993060e-05  5.09657168e-04  5.09989727e-04  8.13675199e-05\n",
            "   1.45901621e-04  9.78449947e-05]\n",
            " [ 6.63650325e-01  3.29037393e-01  4.66140102e+00  7.14909447e+01\n",
            "   1.17577046e-03  7.28582209e-03  1.39701630e-02  7.51138126e-03\n",
            "   2.30638906e-03  2.17320416e-07  7.69023519e-02  3.26223907e-02\n",
            "   5.45431807e-01  1.20075606e+01  1.36980537e-04  1.76827584e-03\n",
            "   2.78215793e-03  8.78386400e-04  5.51469424e-04  1.67123076e-04\n",
            "   9.58415776e-01  3.32021575e-01  6.70631079e+00  1.18661947e+02\n",
            "   8.98589022e-04  1.25267164e-02  2.20184079e-02  9.68042460e-03\n",
            "   1.62203697e-03  2.48224335e-04]\n",
            " [-1.89188600e-01  9.16695072e-01 -1.16298834e+00 -1.28671677e+01\n",
            "   5.30728260e-04  1.34613491e-03  3.35187749e-03  4.59781771e-04\n",
            "   1.93655007e-03  6.39430966e-04  3.26223907e-02  3.04315949e-01\n",
            "   2.48914100e-01  2.79978454e+00  6.57966922e-04  2.28896558e-03\n",
            "   3.24713230e-03  7.83845060e-04  1.87704405e-03  4.08311517e-04\n",
            "  -2.97794292e-01  1.38675379e+00 -1.89523687e+00 -2.61302872e+01\n",
            "  -9.27753055e-04 -8.02322019e-03 -7.93598173e-03 -4.33819302e-03\n",
            "  -4.37585288e-03 -4.54877884e-04]\n",
            " [ 4.80354973e+00  2.44944877e+00  3.40530278e+01  5.17009995e+02\n",
            "   8.41955814e-03  5.86119478e-02  1.06443014e-01  5.57531179e-02\n",
            "   1.73983505e-02  5.68573335e-04  5.45431807e-01  2.48914100e-01\n",
            "   4.08789584e+00  8.62419781e+01  9.17126151e-04  1.50740895e-02\n",
            "   2.21229120e-02  6.93962762e-03  4.45390561e-03  1.30615667e-03\n",
            "   6.81312193e+00  2.48997634e+00  4.89864729e+01  8.41165375e+02\n",
            "   6.00381162e-03  1.08768506e-01  1.76694851e-01  7.37465264e-02\n",
            "   1.37508705e-02  3.11976307e-03]\n",
            " [ 1.17968162e+02  5.08408652e+01  8.23492755e+02  1.28085176e+04\n",
            "   1.57742108e-01  1.09470847e+00  2.23911946e+00  1.21850147e+00\n",
            "   2.79313983e-01 -2.89611509e-02  1.20075606e+01  2.79978454e+00\n",
            "   8.62419781e+01  2.06943158e+03  1.02646013e-02  2.32048109e-01\n",
            "   3.71991077e-01  1.16692162e-01  5.04310854e-02  1.52958332e-02\n",
            "   1.66522900e+02  5.49403529e+01  1.16359986e+03  2.10159710e+04\n",
            "   1.30238261e-01  2.02737895e+00  3.65480374e+00  1.60924122e+00\n",
            "   2.08622021e-01  1.44107271e-02]\n",
            " [-2.35533633e-03  8.54099045e-05 -1.47881764e-02 -1.76220977e-01\n",
            "   1.40354828e-05  2.14545745e-05  2.35922336e-05  3.22178293e-06\n",
            "   1.54187557e-05  8.52118998e-06  1.36980537e-04  6.57966922e-04\n",
            "   9.17126151e-04  1.02646013e-02  9.01511400e-06  1.81040236e-05\n",
            "   2.43520250e-05  6.08461363e-06  1.02631926e-05  3.39543489e-06\n",
            "  -3.34775926e-03 -1.37932527e-03 -2.19242617e-02 -3.11464005e-01\n",
            "   2.15575614e-05 -2.62459776e-05 -3.65180014e-05 -2.01323198e-05\n",
            "  -1.99396729e-05  5.50320435e-06]\n",
            " [ 1.30005142e-02  1.47865987e-02  1.09111241e-01  1.33972528e+00\n",
            "   8.03299928e-05  6.98668545e-04  9.56914602e-04  3.40790075e-04\n",
            "   2.07009285e-04  7.07847676e-05  1.76827584e-03  2.28896558e-03\n",
            "   1.50740895e-02  2.32048109e-01  1.81040236e-05  3.20702887e-04\n",
            "   4.33147543e-04  8.22200733e-05  5.84315765e-05  3.80639479e-05\n",
            "   1.77096826e-02  1.57400489e-02  1.56768104e-01  2.03281940e+00\n",
            "   9.29786001e-05  1.91253835e-03  2.38790385e-03  5.68807017e-04\n",
            "   3.07870879e-04  1.91146839e-04]\n",
            " [ 2.06588280e-02  1.86039300e-02  1.67296235e-01  2.20595229e+00\n",
            "   1.05454056e-04  9.09523186e-04  1.66349126e-03  5.14398590e-04\n",
            "   2.83533849e-04  9.51878806e-05  2.78215793e-03  3.24713230e-03\n",
            "   2.21229120e-02  3.71991077e-01  2.43520250e-05  4.33147543e-04\n",
            "   9.11198238e-04  1.43753588e-04  7.72114623e-05  5.80984588e-05\n",
            "   2.72685729e-02  1.85978404e-02  2.29928386e-01  3.23715008e+00\n",
            "   1.16120880e-04  2.30276848e-03  4.17252753e-03  8.73985248e-04\n",
            "   3.69375701e-04  2.39521661e-04]\n",
            " [ 8.17956306e-03  4.34837964e-03  6.10547010e-02  8.08460183e-01\n",
            "   3.30349152e-05  2.09293726e-04  3.36091422e-04  1.47397967e-04\n",
            "   6.65278822e-05  1.48641058e-05  8.78386400e-04  7.83845060e-04\n",
            "   6.93962762e-03  1.16692162e-01  6.08461363e-06  8.22200733e-05\n",
            "   1.43753588e-04  3.80724191e-05  1.59536273e-05  9.97652528e-06\n",
            "   1.06802250e-02  3.28958772e-03  8.18980659e-02  1.20243111e+00\n",
            "   3.03391521e-05  4.39669021e-04  7.07474494e-04  2.44345903e-04\n",
            "   5.46329636e-05  3.46203280e-05]\n",
            " [-3.03898170e-03  3.24506954e-04 -1.63964262e-02 -2.10896413e-01\n",
            "   2.33418901e-05  1.00400852e-04  1.17306921e-04  3.05845975e-05\n",
            "   1.01781812e-04  2.01358675e-05  5.51469424e-04  1.87704405e-03\n",
            "   4.45390561e-03  5.04310854e-02  1.02631926e-05  5.84315765e-05\n",
            "   7.72114623e-05  1.59536273e-05  6.83328983e-05  8.07299465e-06\n",
            "  -5.11885657e-03 -3.93621135e-03 -2.88195970e-02 -5.19329933e-01\n",
            "  -2.38980507e-06  7.83676091e-05  6.40142422e-05 -1.65256650e-05\n",
            "   1.99148013e-04  1.16573553e-05]\n",
            " [-3.97624858e-04  6.19772637e-04 -3.55136526e-04 -1.85185365e-02\n",
            "   1.05543329e-05  7.08958339e-05  9.47774191e-05  2.64474321e-05\n",
            "   2.40678115e-05  1.28558262e-05  1.67123076e-04  4.08311517e-04\n",
            "   1.30615667e-03  1.52958332e-02  3.39543489e-06  3.80639479e-05\n",
            "   5.80984588e-05  9.97652528e-06  8.07299465e-06  7.00169156e-06\n",
            "  -4.79432902e-04 -5.19621407e-05 -8.89500663e-05 -3.42533475e-02\n",
            "   1.03050944e-05  1.62432301e-04  2.09759180e-04  3.74309591e-05\n",
            "   1.81867149e-05  2.82603933e-05]\n",
            " [ 1.65137495e+01  7.32926700e+00  1.13858063e+02  1.63752134e+03\n",
            "   1.44869117e-02  1.36642905e-01  2.65180994e-01  1.55720694e-01\n",
            "   2.46088984e-02 -8.65707995e-03  9.58415776e-01 -2.97794292e-01\n",
            "   6.81312193e+00  1.66522900e+02 -3.34775926e-03  1.77096826e-02\n",
            "   2.72685729e-02  1.06802250e-02 -5.11885657e-03 -4.79432902e-04\n",
            "   2.33602242e+01  1.06919311e+01  1.61387312e+02  2.70785053e+03\n",
            "   2.38999950e-02  3.61835092e-01  5.78756806e-01  2.50164782e-01\n",
            "   7.28202041e-02  8.16133257e-03]\n",
            " [ 6.43310002e+00  2.41101485e+01  4.52581133e+01  6.21824934e+02\n",
            "   3.11810959e-03  8.05441202e-02  1.46934203e-01  6.98190238e-02\n",
            "   1.52742091e-02 -2.22481721e-03  3.32021575e-01  1.38675379e+00\n",
            "   2.48997634e+00  5.49403529e+01 -1.37932527e-03  1.57400489e-02\n",
            "   1.85978404e-02  3.28958772e-03 -3.93621135e-03 -5.19621407e-05\n",
            "   1.06919311e+01  3.77764828e+01  7.54036974e+01  1.21024559e+03\n",
            "   3.16354100e-02  3.48935911e-01  4.72339959e-01  1.45343705e-01\n",
            "   8.86094831e-02  2.43246056e-02]\n",
            " [ 1.14288570e+02  5.17459332e+01  7.92328208e+02  1.13417898e+04\n",
            "   1.12879473e-01  1.04741276e+00  1.95434992e+00  1.11601611e+00\n",
            "   2.01895786e-01 -4.86713328e-02  6.70631079e+00 -1.89523687e+00\n",
            "   4.89864729e+01  1.16359986e+03 -2.19242617e-02  1.56768104e-01\n",
            "   2.29928386e-01  8.18980659e-02 -2.88195970e-02 -8.89500663e-05\n",
            "   1.61387312e+02  7.54036974e+01  1.12913085e+03  1.87028700e+04\n",
            "   1.81660029e-01  2.79892870e+00  4.33478134e+00  1.80307085e+00\n",
            "   5.60249648e-01  8.43335447e-02]\n",
            " [ 1.88822722e+03  8.41283832e+02  1.30261484e+04  1.92192558e+05\n",
            "   1.65529930e+00  1.53234364e+01  3.06824051e+01  1.78868809e+01\n",
            "   2.76572509e+00 -9.32024040e-01  1.18661947e+02 -2.61302872e+01\n",
            "   8.41165375e+02  2.10159710e+04 -3.11464005e-01  2.03281940e+00\n",
            "   3.23715008e+00  1.20243111e+00 -5.19329933e-01 -3.42533475e-02\n",
            "   2.70785053e+03  1.21024559e+03  1.87028700e+04  3.24167385e+05\n",
            "   2.71884821e+00  3.92628573e+01  6.45377197e+01  2.79722743e+01\n",
            "   7.36708262e+00  8.19035051e-01]\n",
            " [ 9.62462515e-03  7.61106975e-03  8.35255275e-02  9.92513546e-01\n",
            "   2.58604266e-04  6.81954177e-04  8.16944485e-04  4.01122552e-04\n",
            "   2.67070680e-04  8.13993060e-05  8.98589022e-04 -9.27753055e-04\n",
            "   6.00381162e-03  1.30238261e-01  2.15575614e-05  9.29786001e-05\n",
            "   1.16120880e-04  3.03391521e-05 -2.38980507e-06  1.03050944e-05\n",
            "   2.38999950e-02  3.16354100e-02  1.81660029e-01  2.71884821e+00\n",
            "   5.21319833e-04  2.04113863e-03  2.46993342e-03  8.21990412e-04\n",
            "   6.97588413e-04  2.54697477e-04]\n",
            " [ 2.29249204e-01  1.88010026e-01  1.74247791e+00  2.16166024e+01\n",
            "   1.04547843e-03  7.19433104e-03  9.46943910e-03  4.07487369e-03\n",
            "   2.04103789e-03  5.09657168e-04  1.25267164e-02 -8.02322019e-03\n",
            "   1.08768506e-01  2.02737895e+00 -2.62459776e-05  1.91253835e-03\n",
            "   2.30276848e-03  4.39669021e-04  7.83676091e-05  1.62432301e-04\n",
            "   3.61835092e-01  3.48935911e-01  2.79892870e+00  3.92628573e+01\n",
            "   2.04113863e-03  2.47547707e-02  2.92877607e-02  8.28484985e-03\n",
            "   5.98097006e-03  2.30306664e-03]\n",
            " [ 3.87386440e-01  2.70110082e-01  2.85850554e+00  3.76344154e+01\n",
            "   1.27612364e-03  8.99373999e-03  1.47039422e-02  6.09083615e-03\n",
            "   2.48057393e-03  5.09989727e-04  2.20184079e-02 -7.93598173e-03\n",
            "   1.76694851e-01  3.65480374e+00 -3.65180014e-05  2.38790385e-03\n",
            "   4.17252753e-03  7.07474494e-04  6.40142422e-05  2.09759180e-04\n",
            "   5.78756806e-01  4.72339959e-01  4.33478134e+00  6.45377197e+01\n",
            "   2.46993342e-03  2.92877607e-02  4.35240905e-02  1.17308745e-02\n",
            "   6.87326192e-03  2.58678613e-03]\n",
            " [ 1.72392739e-01  8.34908538e-02  1.23184809e+00  1.67017894e+01\n",
            "   4.65056762e-04  2.83126752e-03  4.51347883e-03  2.32144382e-03\n",
            "   7.75396600e-04  8.13675199e-05  9.68042460e-03 -4.33819302e-03\n",
            "   7.37465264e-02  1.60924122e+00 -2.01323198e-05  5.68807017e-04\n",
            "   8.73985248e-04  2.44345903e-04 -1.65256650e-05  3.74309591e-05\n",
            "   2.50164782e-01  1.45343705e-01  1.80307085e+00  2.79722743e+01\n",
            "   8.21990412e-04  8.28484985e-03  1.17308745e-02  4.32074068e-03\n",
            "   2.04362935e-03  6.06799512e-04]\n",
            " [ 3.57457580e-02  2.79419949e-02  2.84299746e-01  3.12580933e+00\n",
            "   3.43093408e-04  1.66709974e-03  2.01950274e-03  9.02024075e-04\n",
            "   1.18694106e-03  1.45901621e-04  1.62203697e-03 -4.37585288e-03\n",
            "   1.37508705e-02  2.08622021e-01 -1.99396729e-05  3.07870879e-04\n",
            "   3.69375701e-04  5.46329636e-05  1.99148013e-04  1.81867149e-05\n",
            "   7.28202041e-02  8.86094831e-02  5.60249648e-01  7.36708262e+00\n",
            "   6.97588413e-04  5.98097006e-03  6.87326192e-03  2.04362935e-03\n",
            "   3.82758354e-03  6.00994206e-04]\n",
            " [ 4.49735060e-04  9.26012881e-03  2.23905222e-02  2.37562255e-02\n",
            "   1.26834336e-04  6.55670173e-04  7.41417054e-04  2.58368250e-04\n",
            "   2.17074597e-04  9.78449947e-05  2.48224335e-04 -4.54877884e-04\n",
            "   3.11976307e-03  1.44107271e-02  5.50320435e-06  1.91146839e-04\n",
            "   2.39521661e-04  3.46203280e-05  1.16573553e-05  2.82603933e-05\n",
            "   8.16133257e-03  2.43246056e-02  8.43335447e-02  8.19035051e-01\n",
            "   2.54697477e-04  2.30306664e-03  2.58678613e-03  6.06799512e-04\n",
            "   6.00994206e-04  3.26209378e-04]]\n"
          ]
        }
      ]
    },
    {
      "cell_type": "code",
      "source": [
        "lin.feature_names"
      ],
      "metadata": {
        "colab": {
          "base_uri": "https://localhost:8080/"
        },
        "id": "ZwKnA1yMs_J5",
        "outputId": "74f54e58-84d9-4c1f-8eb9-c8b24b9e8b98"
      },
      "execution_count": 98,
      "outputs": [
        {
          "output_type": "execute_result",
          "data": {
            "text/plain": [
              "array(['mean radius', 'mean texture', 'mean perimeter', 'mean area',\n",
              "       'mean smoothness', 'mean compactness', 'mean concavity',\n",
              "       'mean concave points', 'mean symmetry', 'mean fractal dimension',\n",
              "       'radius error', 'texture error', 'perimeter error', 'area error',\n",
              "       'smoothness error', 'compactness error', 'concavity error',\n",
              "       'concave points error', 'symmetry error',\n",
              "       'fractal dimension error', 'worst radius', 'worst texture',\n",
              "       'worst perimeter', 'worst area', 'worst smoothness',\n",
              "       'worst compactness', 'worst concavity', 'worst concave points',\n",
              "       'worst symmetry', 'worst fractal dimension'], dtype='<U23')"
            ]
          },
          "metadata": {},
          "execution_count": 98
        }
      ]
    },
    {
      "cell_type": "code",
      "source": [
        "import numpy as np\n",
        "\n",
        "mean_radius = X[:, 0]  # Extract mean radius feature\n",
        "mean_mean_radius = np.mean(mean_radius)\n",
        "min_mean_radius = np.min(mean_radius)\n",
        "max_mean_radius = np.max(mean_radius)\n",
        "\n",
        "print(\"Mean mean radius:\", mean_mean_radius)\n",
        "print(\"Minimum mean radius:\", min_mean_radius)\n",
        "print(\"Maximum mean radius:\", max_mean_radius)"
      ],
      "metadata": {
        "colab": {
          "base_uri": "https://localhost:8080/"
        },
        "id": "cqT3dqyVs2HJ",
        "outputId": "aea2d1ca-3553-4bf1-e815-2132be60a6ca"
      },
      "execution_count": 103,
      "outputs": [
        {
          "output_type": "stream",
          "name": "stdout",
          "text": [
            "Mean mean radius: 14.127291739894552\n",
            "Minimum mean radius: 6.981\n",
            "Maximum mean radius: 28.11\n"
          ]
        }
      ]
    },
    {
      "cell_type": "code",
      "source": [
        "from sklearn.preprocessing import StandardScaler\n",
        "# StandardScaler\n",
        "scalar = StandardScaler()\n",
        "scalar.fit_transform(X)"
      ],
      "metadata": {
        "colab": {
          "base_uri": "https://localhost:8080/"
        },
        "id": "093Exl-ltVCd",
        "outputId": "56f4f36c-8bc6-4014-99b3-3550fe725d6c"
      },
      "execution_count": 106,
      "outputs": [
        {
          "output_type": "execute_result",
          "data": {
            "text/plain": [
              "array([[ 1.09706398, -2.07333501,  1.26993369, ...,  2.29607613,\n",
              "         2.75062224,  1.93701461],\n",
              "       [ 1.82982061, -0.35363241,  1.68595471, ...,  1.0870843 ,\n",
              "        -0.24388967,  0.28118999],\n",
              "       [ 1.57988811,  0.45618695,  1.56650313, ...,  1.95500035,\n",
              "         1.152255  ,  0.20139121],\n",
              "       ...,\n",
              "       [ 0.70228425,  2.0455738 ,  0.67267578, ...,  0.41406869,\n",
              "        -1.10454895, -0.31840916],\n",
              "       [ 1.83834103,  2.33645719,  1.98252415, ...,  2.28998549,\n",
              "         1.91908301,  2.21963528],\n",
              "       [-1.80840125,  1.22179204, -1.81438851, ..., -1.74506282,\n",
              "        -0.04813821, -0.75120669]])"
            ]
          },
          "metadata": {},
          "execution_count": 106
        }
      ]
    },
    {
      "cell_type": "code",
      "source": [
        "from sklearn.preprocessing import Normalizer\n",
        "# Normalizer\n",
        "norm = Normalizer()\n",
        "X = norm.fit_transform(X)"
      ],
      "metadata": {
        "id": "oUiiO4_4tlRp"
      },
      "execution_count": 108,
      "outputs": []
    },
    {
      "cell_type": "code",
      "source": [
        "\n",
        "# 3\n",
        "x_train, x_test, y_train, y_test = train_test_split(X, y, test_size=0.25, random_state=0, stratify=y)"
      ],
      "metadata": {
        "id": "KaOMXDmatnr5"
      },
      "execution_count": 109,
      "outputs": []
    },
    {
      "cell_type": "code",
      "source": [
        "# 4\n",
        "from sklearn.neighbors import KNeighborsClassifier\n",
        "model = KNeighborsClassifier()\n",
        "model.fit(x_train, y_train)\n",
        "# model.predict(x_test)\n",
        "predict_test = model.predict(x_test)"
      ],
      "metadata": {
        "id": "wPYlCb21t7tl"
      },
      "execution_count": 121,
      "outputs": []
    },
    {
      "cell_type": "code",
      "source": [
        "# 5\n",
        "model.score(x_test, y_test)"
      ],
      "metadata": {
        "colab": {
          "base_uri": "https://localhost:8080/"
        },
        "id": "bp392eRDuQ3Q",
        "outputId": "67bcdeb4-e051-486e-b124-7e93793e5936"
      },
      "execution_count": 122,
      "outputs": [
        {
          "output_type": "execute_result",
          "data": {
            "text/plain": [
              "0.9090909090909091"
            ]
          },
          "metadata": {},
          "execution_count": 122
        }
      ]
    },
    {
      "cell_type": "code",
      "source": [
        "from sklearn.metrics import confusion_matrix\n",
        "cm = confusion_matrix(y_test,predict_test)\n",
        "sns.heatmap(cm,annot=True)\n",
        "\n"
      ],
      "metadata": {
        "colab": {
          "base_uri": "https://localhost:8080/",
          "height": 447
        },
        "id": "azXM-xLfuXsi",
        "outputId": "23bdd277-d982-4adf-911f-9c6850fff77a"
      },
      "execution_count": 124,
      "outputs": [
        {
          "output_type": "execute_result",
          "data": {
            "text/plain": [
              "<Axes: >"
            ]
          },
          "metadata": {},
          "execution_count": 124
        },
        {
          "output_type": "display_data",
          "data": {
            "text/plain": [
              "<Figure size 640x480 with 2 Axes>"
            ],
            "image/png": "[encoded data removed]"
          },
          "metadata": {}
        }
      ]
    },
    {
      "cell_type": "code",
      "source": [
        "from sklearn.metrics import classification_report\n",
        "print(classification_report(y_test, predict_test))"
      ],
      "metadata": {
        "colab": {
          "base_uri": "https://localhost:8080/"
        },
        "id": "fZy5BGwqvMv7",
        "outputId": "08b973c7-3ca8-4827-d917-b7c758eb8cc1"
      },
      "execution_count": 125,
      "outputs": [
        {
          "output_type": "stream",
          "name": "stdout",
          "text": [
            "              precision    recall  f1-score   support\n",
            "\n",
            "           0       0.87      0.89      0.88        53\n",
            "           1       0.93      0.92      0.93        90\n",
            "\n",
            "    accuracy                           0.91       143\n",
            "   macro avg       0.90      0.90      0.90       143\n",
            "weighted avg       0.91      0.91      0.91       143\n",
            "\n"
          ]
        }
      ]
    },
    {
      "cell_type": "code",
      "source": [],
      "metadata": {
        "id": "Th6Z-f1-vzk8"
      },
      "execution_count": null,
      "outputs": []
    }
  ]
}